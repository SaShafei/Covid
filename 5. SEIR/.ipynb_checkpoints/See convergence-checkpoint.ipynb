{
 "cells": [
  {
   "cell_type": "markdown",
   "id": "873ab7a7",
   "metadata": {},
   "source": [
    "# SIR Model for Omicron in Iran"
   ]
  },
  {
   "cell_type": "markdown",
   "id": "b815d0ce",
   "metadata": {},
   "source": [
    "## Import data, handle missing values, create a clean dataframe"
   ]
  },
  {
   "cell_type": "code",
   "execution_count": 251,
   "id": "427aa974",
   "metadata": {
    "scrolled": true
   },
   "outputs": [
    {
     "data": {
      "text/html": [
       "<div>\n",
       "<style scoped>\n",
       "    .dataframe tbody tr th:only-of-type {\n",
       "        vertical-align: middle;\n",
       "    }\n",
       "\n",
       "    .dataframe tbody tr th {\n",
       "        vertical-align: top;\n",
       "    }\n",
       "\n",
       "    .dataframe thead th {\n",
       "        text-align: right;\n",
       "    }\n",
       "</style>\n",
       "<table border=\"1\" class=\"dataframe\">\n",
       "  <thead>\n",
       "    <tr style=\"text-align: right;\">\n",
       "      <th></th>\n",
       "      <th>total_cases</th>\n",
       "      <th>new_cases</th>\n",
       "      <th>new_cases_smoothed</th>\n",
       "      <th>total_deaths</th>\n",
       "      <th>new_deaths</th>\n",
       "      <th>new_deaths_smoothed</th>\n",
       "      <th>total_vaccinations_f</th>\n",
       "      <th>stringency_index_f</th>\n",
       "    </tr>\n",
       "    <tr>\n",
       "      <th>date</th>\n",
       "      <th></th>\n",
       "      <th></th>\n",
       "      <th></th>\n",
       "      <th></th>\n",
       "      <th></th>\n",
       "      <th></th>\n",
       "      <th></th>\n",
       "      <th></th>\n",
       "    </tr>\n",
       "  </thead>\n",
       "  <tbody>\n",
       "    <tr>\n",
       "      <th>2020-02-19</th>\n",
       "      <td>2</td>\n",
       "      <td>2</td>\n",
       "      <td>NaN</td>\n",
       "      <td>2</td>\n",
       "      <td>2</td>\n",
       "      <td>NaN</td>\n",
       "      <td>0.00</td>\n",
       "      <td>0.00</td>\n",
       "    </tr>\n",
       "    <tr>\n",
       "      <th>2020-02-20</th>\n",
       "      <td>5</td>\n",
       "      <td>3</td>\n",
       "      <td>NaN</td>\n",
       "      <td>2</td>\n",
       "      <td>0</td>\n",
       "      <td>NaN</td>\n",
       "      <td>0.00</td>\n",
       "      <td>2.78</td>\n",
       "    </tr>\n",
       "    <tr>\n",
       "      <th>2020-02-21</th>\n",
       "      <td>18</td>\n",
       "      <td>13</td>\n",
       "      <td>NaN</td>\n",
       "      <td>4</td>\n",
       "      <td>2</td>\n",
       "      <td>NaN</td>\n",
       "      <td>0.00</td>\n",
       "      <td>2.78</td>\n",
       "    </tr>\n",
       "    <tr>\n",
       "      <th>2020-02-22</th>\n",
       "      <td>28</td>\n",
       "      <td>10</td>\n",
       "      <td>NaN</td>\n",
       "      <td>5</td>\n",
       "      <td>1</td>\n",
       "      <td>NaN</td>\n",
       "      <td>0.00</td>\n",
       "      <td>11.11</td>\n",
       "    </tr>\n",
       "    <tr>\n",
       "      <th>2020-02-23</th>\n",
       "      <td>43</td>\n",
       "      <td>15</td>\n",
       "      <td>NaN</td>\n",
       "      <td>8</td>\n",
       "      <td>3</td>\n",
       "      <td>NaN</td>\n",
       "      <td>0.00</td>\n",
       "      <td>11.11</td>\n",
       "    </tr>\n",
       "    <tr>\n",
       "      <th>...</th>\n",
       "      <td>...</td>\n",
       "      <td>...</td>\n",
       "      <td>...</td>\n",
       "      <td>...</td>\n",
       "      <td>...</td>\n",
       "      <td>...</td>\n",
       "      <td>...</td>\n",
       "      <td>...</td>\n",
       "    </tr>\n",
       "    <tr>\n",
       "      <th>2022-02-21</th>\n",
       "      <td>6961562</td>\n",
       "      <td>19110</td>\n",
       "      <td>18,048.71</td>\n",
       "      <td>135276</td>\n",
       "      <td>236</td>\n",
       "      <td>198.57</td>\n",
       "      <td>139,778,863.00</td>\n",
       "      <td>62.04</td>\n",
       "    </tr>\n",
       "    <tr>\n",
       "      <th>2022-02-22</th>\n",
       "      <td>6983635</td>\n",
       "      <td>22073</td>\n",
       "      <td>17,625.71</td>\n",
       "      <td>135499</td>\n",
       "      <td>223</td>\n",
       "      <td>206.57</td>\n",
       "      <td>140,067,676.00</td>\n",
       "      <td>62.04</td>\n",
       "    </tr>\n",
       "    <tr>\n",
       "      <th>2022-02-23</th>\n",
       "      <td>6998975</td>\n",
       "      <td>15340</td>\n",
       "      <td>17,487.14</td>\n",
       "      <td>135726</td>\n",
       "      <td>227</td>\n",
       "      <td>212.57</td>\n",
       "      <td>140,520,797.00</td>\n",
       "      <td>62.04</td>\n",
       "    </tr>\n",
       "    <tr>\n",
       "      <th>2022-02-24</th>\n",
       "      <td>7011932</td>\n",
       "      <td>12957</td>\n",
       "      <td>16,831.71</td>\n",
       "      <td>135952</td>\n",
       "      <td>226</td>\n",
       "      <td>218.86</td>\n",
       "      <td>140,679,130.00</td>\n",
       "      <td>62.04</td>\n",
       "    </tr>\n",
       "    <tr>\n",
       "      <th>2022-02-25</th>\n",
       "      <td>7023904</td>\n",
       "      <td>11972</td>\n",
       "      <td>15,782.43</td>\n",
       "      <td>136166</td>\n",
       "      <td>214</td>\n",
       "      <td>222.71</td>\n",
       "      <td>140,837,463.00</td>\n",
       "      <td>62.04</td>\n",
       "    </tr>\n",
       "  </tbody>\n",
       "</table>\n",
       "<p>738 rows × 8 columns</p>\n",
       "</div>"
      ],
      "text/plain": [
       "            total_cases  new_cases  new_cases_smoothed  total_deaths  \\\n",
       "date                                                                   \n",
       "2020-02-19            2          2                 NaN             2   \n",
       "2020-02-20            5          3                 NaN             2   \n",
       "2020-02-21           18         13                 NaN             4   \n",
       "2020-02-22           28         10                 NaN             5   \n",
       "2020-02-23           43         15                 NaN             8   \n",
       "...                 ...        ...                 ...           ...   \n",
       "2022-02-21      6961562      19110           18,048.71        135276   \n",
       "2022-02-22      6983635      22073           17,625.71        135499   \n",
       "2022-02-23      6998975      15340           17,487.14        135726   \n",
       "2022-02-24      7011932      12957           16,831.71        135952   \n",
       "2022-02-25      7023904      11972           15,782.43        136166   \n",
       "\n",
       "            new_deaths  new_deaths_smoothed  total_vaccinations_f  \\\n",
       "date                                                                \n",
       "2020-02-19           2                  NaN                  0.00   \n",
       "2020-02-20           0                  NaN                  0.00   \n",
       "2020-02-21           2                  NaN                  0.00   \n",
       "2020-02-22           1                  NaN                  0.00   \n",
       "2020-02-23           3                  NaN                  0.00   \n",
       "...                ...                  ...                   ...   \n",
       "2022-02-21         236               198.57        139,778,863.00   \n",
       "2022-02-22         223               206.57        140,067,676.00   \n",
       "2022-02-23         227               212.57        140,520,797.00   \n",
       "2022-02-24         226               218.86        140,679,130.00   \n",
       "2022-02-25         214               222.71        140,837,463.00   \n",
       "\n",
       "            stringency_index_f  \n",
       "date                            \n",
       "2020-02-19                0.00  \n",
       "2020-02-20                2.78  \n",
       "2020-02-21                2.78  \n",
       "2020-02-22               11.11  \n",
       "2020-02-23               11.11  \n",
       "...                        ...  \n",
       "2022-02-21               62.04  \n",
       "2022-02-22               62.04  \n",
       "2022-02-23               62.04  \n",
       "2022-02-24               62.04  \n",
       "2022-02-25               62.04  \n",
       "\n",
       "[738 rows x 8 columns]"
      ]
     },
     "execution_count": 251,
     "metadata": {},
     "output_type": "execute_result"
    }
   ],
   "source": [
    "import pandas as pd\n",
    "import numpy as np\n",
    "# import seaborn as sns\n",
    "import matplotlib.pyplot as plt\n",
    "from sklearn.metrics import mean_absolute_error, mean_absolute_percentage_error, mean_squared_error\n",
    "import time\n",
    "\n",
    "ic = pd.read_excel(\"D:\\DS\\Mine\\Corona\\I22-02-26.xlsx\", index_col=0, parse_dates=[0])\n",
    "ic['total_vaccinations_f'] = ic['total_vaccinations'].interpolate(method='linear').fillna(0)\n",
    "ic['stringency_index_f'] = ic['stringency_index'].fillna(method=\"ffill\")\n",
    "icf = ic.loc[ : , ['total_cases', 'new_cases', 'new_cases_smoothed',\n",
    "                   'total_deaths', 'new_deaths', 'new_deaths_smoothed', 'total_vaccinations_f', 'stringency_index_f']]\n",
    "icf = icf.asfreq(None)\n",
    "pd.options.display.float_format = '{:,.2f}'.format\n",
    "# pd.set_option('display.max_rows', 2000)\n",
    "icf"
   ]
  },
  {
   "cell_type": "code",
   "execution_count": 252,
   "id": "e958e8a6",
   "metadata": {},
   "outputs": [
    {
     "data": {
      "text/plain": [
       "<AxesSubplot:xlabel='date'>"
      ]
     },
     "execution_count": 252,
     "metadata": {},
     "output_type": "execute_result"
    },
    {
     "data": {
      "image/png": "[encoded data removed]",
      "text/plain": [
       "<Figure size 432x288 with 1 Axes>"
      ]
     },
     "metadata": {
      "needs_background": "light"
     },
     "output_type": "display_data"
    }
   ],
   "source": [
    "icf.loc[: , 'new_cases'].plot()"
   ]
  },
  {
   "cell_type": "code",
   "execution_count": 253,
   "id": "53f2d224",
   "metadata": {},
   "outputs": [
    {
     "data": {
      "text/plain": [
       "<AxesSubplot:xlabel='date'>"
      ]
     },
     "execution_count": 253,
     "metadata": {},
     "output_type": "execute_result"
    },
    {
     "data": {
      "image/png": "[encoded data removed]",
      "text/plain": [
       "<Figure size 432x288 with 1 Axes>"
      ]
     },
     "metadata": {
      "needs_background": "light"
     },
     "output_type": "display_data"
    }
   ],
   "source": [
    "icf.loc['2021-11-01': , 'new_cases'].plot()"
   ]
  },
  {
   "cell_type": "markdown",
   "id": "c70160d4",
   "metadata": {},
   "source": [
    "The start of Omicron in Iran is considered to be about 2022-01-15."
   ]
  },
  {
   "cell_type": "code",
   "execution_count": 254,
   "id": "32667fa0",
   "metadata": {},
   "outputs": [],
   "source": [
    "start_date = '2022-01-15' # The start of omicron in Iran, based on the graphs above and the news\n",
    "icc = icf.loc[start_date: , 'new_cases_smoothed'] # Iran Corona Cases\n",
    "icd = icf.loc[start_date: , 'total_deaths'] # Iran Corona Deaths\n",
    "icd -= icd.iloc[0] # To start the cumulative deaths from zero, as we study Omicron only"
   ]
  },
  {
   "cell_type": "markdown",
   "id": "81e822a5",
   "metadata": {},
   "source": [
    "## Defining the training data and observing them "
   ]
  },
  {
   "cell_type": "code",
   "execution_count": 255,
   "id": "a4285544",
   "metadata": {
    "scrolled": true
   },
   "outputs": [],
   "source": [
    "xtc = icc.values\n",
    "xtd = icd.values"
   ]
  },
  {
   "cell_type": "code",
   "execution_count": 256,
   "id": "f2d79b27",
   "metadata": {},
   "outputs": [
    {
     "name": "stdout",
     "output_type": "stream",
     "text": [
      "1973.714\n",
      "Infected people\n"
     ]
    },
    {
     "data": {
      "image/png": "[encoded data removed]",
      "text/plain": [
       "<Figure size 432x288 with 1 Axes>"
      ]
     },
     "metadata": {
      "needs_background": "light"
     },
     "output_type": "display_data"
    }
   ],
   "source": [
    "print(icc[0])\n",
    "icc.plot()\n",
    "print('Infected people')"
   ]
  },
  {
   "cell_type": "code",
   "execution_count": 257,
   "id": "af4ef0f6",
   "metadata": {
    "scrolled": false
   },
   "outputs": [
    {
     "name": "stdout",
     "output_type": "stream",
     "text": [
      "Cumulative deaths from the beginning of Omicron\n"
     ]
    },
    {
     "data": {
      "image/png": "[encoded data removed]",
      "text/plain": [
       "<Figure size 432x288 with 1 Axes>"
      ]
     },
     "metadata": {
      "needs_background": "light"
     },
     "output_type": "display_data"
    }
   ],
   "source": [
    "icd.plot()\n",
    "print('Cumulative deaths from the beginning of Omicron')"
   ]
  },
  {
   "cell_type": "markdown",
   "id": "d6e8f4e7",
   "metadata": {},
   "source": [
    "## Definition of the basic SIR model"
   ]
  },
  {
   "cell_type": "code",
   "execution_count": 258,
   "id": "87251c2f",
   "metadata": {},
   "outputs": [
    {
     "data": {
      "image/png": "[encoded data removed]",
      "text/plain": [
       "<Figure size 432x288 with 1 Axes>"
      ]
     },
     "metadata": {},
     "output_type": "display_data"
    }
   ],
   "source": [
    "import numpy as np\n",
    "from scipy.integrate import odeint\n",
    "import matplotlib.pyplot as plt\n",
    "from scipy.optimize import curve_fit\n",
    "\n",
    "    # The SIR model differential equations.\n",
    "def derivs(y, t, N, beta, epsilon, gamma, nu, delta):\n",
    "    S, E, I, R, D = y\n",
    "    dSdt = -beta * S * I / N + delta * R\n",
    "    dEdt = beta * S * I / N - epsilon * E\n",
    "    dIdt = epsilon * E - gamma * I - nu * I\n",
    "    dRdt = gamma * I - delta * R\n",
    "    dDdt = nu * I\n",
    "    return dSdt, dEdt, dIdt, dRdt, dDdt\n",
    "\n",
    "    # Main\n",
    "    # Initial conditions vector\n",
    "    # Total population, N.\n",
    "N = 84 * 10 ** 6\n",
    "    # Initial number of infected and recovered individuals, I0 and R0.\n",
    "I0, R0 = icc.iloc[0], 1 #6.5 * 10 ** 6\n",
    "E0 = I0\n",
    "    # Everyone else, S0, is susceptible to infection initially.\n",
    "S0 = N - I0 - R0\n",
    "BR = 1.013 ** (1 / 365)\n",
    "D0 = 0 # Only for Omicron\n",
    "\n",
    "    # Rates per day\n",
    "    # beta: Contact rate, beta\n",
    "beta = 0.9\n",
    "\n",
    "    #epsilon: the rate at which exposed people are going to be infected\n",
    "epsilon = 0.88\n",
    "    # gamma: Recovery/removing rate, gamma\n",
    "gamma = 0.873\n",
    "    # nu: Deaths occuring out of daily removed people\n",
    "nu = 0.0001\n",
    "    # delta: rate of loss of immunity in entire removed (immuned) people\n",
    "delta = 0.003\n",
    "\n",
    "    # A grid of time points (in days)\n",
    "t = np.linspace(0, 1499, 1500)\n",
    "y0 = S0, E0, I0, R0, D0\n",
    "\n",
    "    # Integrate the SIR equations over the time grid, t.\n",
    "ret = odeint(derivs, y0, t, args=(N, beta, epsilon, gamma, nu, delta))\n",
    "S, E, I, R, D = ret.T\n",
    "\n",
    "    # Plot the data on three separate curves for S(t), I(t) and R(t)\n",
    "fig = plt.figure(facecolor='w')\n",
    "ax = fig.add_subplot(111, facecolor='#dddddd', axisbelow=True)\n",
    "ax.plot(t, S, 'b', alpha=0.5, lw=2, label='Susceptible')\n",
    "ax.plot(t, I, 'r', alpha=0.5, lw=2, label='Infected')\n",
    "ax.plot(t, R, 'g', alpha=0.5, lw=2, label='Immuned')\n",
    "ax.plot(t, D, 'c', alpha=0.5, lw=2, label='Death')\n",
    "ax.set_xlabel('Time (days)')\n",
    "ax.set_ylabel('Number (person)')\n",
    "ax.yaxis.set_tick_params(length=0)\n",
    "ax.xaxis.set_tick_params(length=0)\n",
    "ax.grid(b=True, which='major', c='w', lw=2, ls='-')\n",
    "legend = ax.legend()\n",
    "legend.get_frame().set_alpha(0.5)\n",
    "for spine in ('top', 'right', 'bottom', 'left'):\n",
    "    ax.spines[spine].set_visible(False)\n",
    "plt.show()"
   ]
  },
  {
   "cell_type": "markdown",
   "id": "24dcc4a5",
   "metadata": {},
   "source": [
    "## The optimization of the SIR model parameters"
   ]
  },
  {
   "cell_type": "code",
   "execution_count": 259,
   "id": "57d8717c",
   "metadata": {
    "scrolled": false
   },
   "outputs": [
    {
     "name": "stdout",
     "output_type": "stream",
     "text": [
      "[0, 1, 2, 3, 4, 5, 6, 7, 8, 9, 10, 11, 12, 13, 14, 15, 16, 17, 18, 19, 20, 21, 22, 23, 24, 25, 26, 27, 28, 29, 30, 31, 32, 33, 34, 35, 36, 37, 38, 39, 40, 41]\n"
     ]
    }
   ],
   "source": [
    "days = list(range(len(xtc)))\n",
    "print(days)"
   ]
  },
  {
   "cell_type": "code",
   "execution_count": 260,
   "id": "2e81fb2a",
   "metadata": {},
   "outputs": [],
   "source": [
    "# The error for prediction function\n",
    "from sklearn.metrics import mean_squared_error\n",
    "def error_for_ID(x):\n",
    "    ebeta, eepsilon, egamma, enu, edelta = x[0], x[1], x[2], x[3], x[4]\n",
    "    res = odeint(derivs, y0, days, args=(N, ebeta, eepsilon, egamma, enu, edelta))\n",
    "    S, E, I, R, D = res.T\n",
    "    err = mean_squared_error(I, xtc, sample_weight=days) / x[5] + mean_squared_error(D, xtd, sample_weight=days)\n",
    "    return err "
   ]
  },
  {
   "cell_type": "code",
   "execution_count": 268,
   "id": "95b58fc2",
   "metadata": {},
   "outputs": [
    {
     "name": "stdout",
     "output_type": "stream",
     "text": [
      "84000000\n",
      "[8.0e+00 6.0e+00 1.2e+00 1.0e-06 5.0e-02 1.0e+02]\n",
      "     fun: 151533382833.79514\n",
      "     jac: array([ 7.99052595e+09, -1.50179840e+09, -3.27262036e+11, -1.03365354e+12,\n",
      "        2.96882589e+12, -1.51528653e+09])\n",
      " message: 'Inequality constraints incompatible'\n",
      "    nfev: 7\n",
      "     nit: 1\n",
      "    njev: 1\n",
      "  status: 4\n",
      " success: False\n",
      "       x: array([8.0e+00, 6.0e+00, 1.2e+00, 1.0e-06, 5.0e-02, 1.0e+02])\n"
     ]
    }
   ],
   "source": [
    "from scipy.optimize import minimize\n",
    "param_bounds = ((0, 90), (0, None), (0, None), (0, None), (0.03, 0.6), (10, 5000))\n",
    "constraints = ({'type': 'ineq', 'fun': lambda x:  x[0] - 2*x[2]}, {'type': 'ineq', 'fun': lambda x:  5*x[2] - x[0]})\n",
    "pzero = [8, 6, 2, 0.000001, 0.05, 100]\n",
    "res = minimize(error_for_ID, x0=pzero, bounds=param_bounds, constraints=constraints, callback=plot_in_progress)\n",
    "print(res)\n",
    "ox = res.x # Optimized X"
   ]
  },
  {
   "cell_type": "code",
   "execution_count": 269,
   "id": "7343b8c8",
   "metadata": {
    "scrolled": true
   },
   "outputs": [],
   "source": [
    "obeta, oepsilon, ogamma, onu, odelta = ox[0], ox[1], ox[2], ox[3], ox[4]"
   ]
  },
  {
   "cell_type": "markdown",
   "id": "236d957b",
   "metadata": {},
   "source": [
    "## Solving equation using the optimized SIR parameters"
   ]
  },
  {
   "cell_type": "code",
   "execution_count": 270,
   "id": "b55192e3",
   "metadata": {},
   "outputs": [],
   "source": [
    "ret = odeint(derivs, y0, days, args=(N, obeta, oepsilon, ogamma, onu, odelta))\n",
    "S, E, I, R, D = ret.T"
   ]
  },
  {
   "cell_type": "code",
   "execution_count": 271,
   "id": "43d82b41",
   "metadata": {},
   "outputs": [
    {
     "data": {
      "image/png": "[encoded data removed]",
      "text/plain": [
       "<Figure size 432x288 with 1 Axes>"
      ]
     },
     "metadata": {},
     "output_type": "display_data"
    }
   ],
   "source": [
    "    # Plot the data on three separate curves for S(t), I(t) and R(t)\n",
    "fig = plt.figure(facecolor='w')\n",
    "ax = fig.add_subplot(111, facecolor='#dddddd', axisbelow=True)\n",
    "ax.plot(days, S, 'b', alpha=0.5, lw=2, label='Susceptible')\n",
    "ax.plot(days, I, 'r', alpha=0.5, lw=2, label='Infected')\n",
    "ax.plot(days, R, 'g', alpha=0.5, lw=2, label='Recovered')\n",
    "ax.plot(days, D, 'c', alpha=0.5, lw=2, label='Death')\n",
    "ax.set_xlabel('Time (days)')\n",
    "ax.set_ylabel('Number (person)')\n",
    "# ax.set_ylim(0,1.2)\n",
    "ax.yaxis.set_tick_params(length=0)\n",
    "ax.xaxis.set_tick_params(length=0)\n",
    "ax.grid(b=True, which='major', c='w', lw=2, ls='-')\n",
    "legend = ax.legend()\n",
    "legend.get_frame().set_alpha(0.5)\n",
    "plt.show()"
   ]
  },
  {
   "cell_type": "code",
   "execution_count": 272,
   "id": "db42d519",
   "metadata": {},
   "outputs": [],
   "source": [
    "\n",
    "time.sleep(0.001)"
   ]
  },
  {
   "cell_type": "code",
   "execution_count": 273,
   "id": "718383a0",
   "metadata": {},
   "outputs": [
    {
     "ename": "TypeError",
     "evalue": "plot2() missing 4 required positional arguments: 'ax', 'x', 'y0', and 'y1'",
     "output_type": "error",
     "traceback": [
      "\u001b[1;31m---------------------------------------------------------------------------\u001b[0m",
      "\u001b[1;31mTypeError\u001b[0m                                 Traceback (most recent call last)",
      "\u001b[1;32m~\\AppData\\Local\\Temp/ipykernel_18532/1508175230.py\u001b[0m in \u001b[0;36m<module>\u001b[1;34m\u001b[0m\n\u001b[0;32m      4\u001b[0m \u001b[0max1\u001b[0m \u001b[1;33m=\u001b[0m \u001b[0mfig1\u001b[0m\u001b[1;33m.\u001b[0m\u001b[0madd_subplot\u001b[0m\u001b[1;33m(\u001b[0m\u001b[1;36m111\u001b[0m\u001b[1;33m,\u001b[0m \u001b[0mfacecolor\u001b[0m\u001b[1;33m=\u001b[0m\u001b[1;34m'#dddddd'\u001b[0m\u001b[1;33m,\u001b[0m \u001b[0maxisbelow\u001b[0m\u001b[1;33m=\u001b[0m\u001b[1;32mTrue\u001b[0m\u001b[1;33m)\u001b[0m\u001b[1;33m\u001b[0m\u001b[1;33m\u001b[0m\u001b[0m\n\u001b[0;32m      5\u001b[0m \u001b[1;33m\u001b[0m\u001b[0m\n\u001b[1;32m----> 6\u001b[1;33m \u001b[0mplot2\u001b[0m\u001b[1;33m(\u001b[0m\u001b[1;33m)\u001b[0m\u001b[1;33m\u001b[0m\u001b[1;33m\u001b[0m\u001b[0m\n\u001b[0m",
      "\u001b[1;31mTypeError\u001b[0m: plot2() missing 4 required positional arguments: 'ax', 'x', 'y0', and 'y1'"
     ]
    },
    {
     "data": {
      "image/png": "[encoded data removed]",
      "text/plain": [
       "<Figure size 432x288 with 1 Axes>"
      ]
     },
     "metadata": {},
     "output_type": "display_data"
    },
    {
     "data": {
      "image/png": "[encoded data removed]",
      "text/plain": [
       "<Figure size 432x288 with 1 Axes>"
      ]
     },
     "metadata": {},
     "output_type": "display_data"
    }
   ],
   "source": [
    "fig = plt.figure(facecolor='w')\n",
    "fig1 = plt.figure(facecolor='w')\n",
    "ax = fig.add_subplot(111, facecolor='#dddddd', axisbelow=True)\n",
    "ax1 = fig1.add_subplot(111, facecolor='#dddddd', axisbelow=True)\n",
    "\n",
    "plot2()"
   ]
  },
  {
   "cell_type": "code",
   "execution_count": null,
   "id": "af5994d2",
   "metadata": {},
   "outputs": [],
   "source": [
    "def plot2(ax, x, y0, y1, col0='g', col1='r', xlab='Days', ylab='Person', y0_lab='Main', y1_lab='Model'):\n",
    "    ax.plot(x, y0, col0, alpha=0.5, lw=2, label=y0_lab)\n",
    "    ax.plot(x, y1, col1, alpha=0.5, lw=2, label=y1_lab)\n",
    "    ax.set_xlabel(xlab)\n",
    "    ax.set_ylabel(ylab)\n",
    "    ax.yaxis.set_tick_params(length=0)\n",
    "    ax.xaxis.set_tick_params(length=0)\n",
    "    ax.grid(b=True, which='major', c='w', lw=2, ls='-')\n",
    "    legend = ax.legend()\n",
    "    legend.get_frame().set_alpha(0.5)\n",
    "    for spine in ('top', 'right', 'bottom', 'left'):\n",
    "        ax.spines[spine].set_visible(False)\n",
    "    plt.show()"
   ]
  },
  {
   "cell_type": "code",
   "execution_count": null,
   "id": "5fa9e334",
   "metadata": {},
   "outputs": [],
   "source": [
    "def plot_in_progress(ox):\n",
    "    print(N)\n",
    "    print(ox)\n",
    "    obeta, oepsilon, ogamma, onu, odelta = ox[0], ox[1], ox[2], ox[3], ox[4]\n",
    "    ret = odeint(derivs, y0, days, args=(N, obeta, oepsilon, ogamma, onu, odelta))\n",
    "    S, E, I, R, D = ret.T\n",
    "\n",
    "\n",
    "    plot2(ax, days, xtc, I, y0_lab='Infected')\n",
    "    \n",
    "    plot2(ax1, days, xtd, D, y0_lab='Deaths')\n",
    "\n",
    "    t = np.linspace(0, 199, 200)\n",
    "    ret = odeint(derivs, y0, t, args=(N, obeta, oepsilon, ogamma, onu, odelta))\n",
    "    S, E, I, R, D = ret.T\n",
    "\n",
    "#     fig = plt.figure(facecolor='w')\n",
    "#     ax = fig.add_subplot(111, facecolor='#dddddd', axisbelow=True)\n",
    "#     plot2(ax, t, xtd, D, y0_lab='Deaths')\n",
    "\n",
    "#     fig = plt.figure(facecolor='w')\n",
    "#     ax = fig.add_subplot(111, facecolor='#dddddd', axisbelow=True)\n",
    "#     ax.plot(t,  I, 'r', alpha=0.5, lw=2, label='Model for new cases')\n",
    "#     ax.plot(days, xtc, 'g', alpha=0.5, lw=2, label='Actual new cases')\n",
    "#     ax.set_xlabel('Time (days)')\n",
    "#     ax.set_ylabel('Number (person)')\n",
    "#     ax.yaxis.set_tick_params(length=0)\n",
    "#     ax.xaxis.set_tick_params(length=0)\n",
    "#     ax.grid(b=True, which='major', c='w', lw=2, ls='-')\n",
    "#     legend = ax.legend()\n",
    "#     legend.get_frame().set_alpha(0.5)\n",
    "#     for spine in ('top', 'right', 'bottom', 'left'):\n",
    "#         ax.spines[spine].set_visible(False)\n",
    "#     plt.show()\n",
    "\n",
    "#     fig = plt.figure(facecolor='w')\n",
    "#     ax = fig.add_subplot(111, facecolor='#dddddd', axisbelow=True)\n",
    "#     ax.plot(t[1:],  np.diff(D), 'r', alpha=0.5, lw=2, label='Model for daily deaths')\n",
    "#     ax.plot(days, icf.loc[start_date: , 'new_deaths_smoothed'].values, 'b', alpha=0.5, lw=2, label='Actual daily deaths')\n",
    "#     ax.set_xlabel('Time (days)')\n",
    "#     ax.set_ylabel('Number (person)')\n",
    "#     ax.yaxis.set_tick_params(length=0)\n",
    "#     ax.xaxis.set_tick_params(length=0)\n",
    "#     ax.grid(b=True, which='major', c='w', lw=2, ls='-')\n",
    "#     legend = ax.legend()\n",
    "#     legend.get_frame().set_alpha(0.5)\n",
    "#     for spine in ('top', 'right', 'bottom', 'left'):\n",
    "#         ax.spines[spine].set_visible(False)\n",
    "#     plt.show()\n",
    "    "
   ]
  },
  {
   "cell_type": "code",
   "execution_count": null,
   "id": "401f40e5",
   "metadata": {},
   "outputs": [],
   "source": [
    "fig = plt.figure(facecolor='w')\n",
    "ax = fig.add_subplot(111, facecolor='#dddddd', axisbelow=True)\n",
    "ax.plot(days, xtc, 'g', alpha=0.5, lw=2, label='Infected')\n",
    "ax.plot(days, I, 'r', alpha=0.5, lw=2, label='Model')\n",
    "ax.set_xlabel('Day')\n",
    "ax.set_ylabel('Number (person)')\n",
    "\n",
    "ax.yaxis.set_tick_params(length=0)\n",
    "ax.xaxis.set_tick_params(length=0)\n",
    "ax.grid(b=True, which='major', c='w', lw=2, ls='-')\n",
    "legend = ax.legend()\n",
    "legend.get_frame().set_alpha(0.5)\n",
    "for spine in ('top', 'right', 'bottom', 'left'):\n",
    "    ax.spines[spine].set_visible(False)\n",
    "plt.show()"
   ]
  },
  {
   "cell_type": "code",
   "execution_count": null,
   "id": "5a675379",
   "metadata": {},
   "outputs": [],
   "source": [
    "fig = plt.figure(facecolor='w')\n",
    "ax = fig.add_subplot(111, facecolor='#dddddd', axisbelow=True)\n",
    "ax.plot(days, xtd, 'b', alpha=0.5, lw=2, label='Cumulative deaths')\n",
    "ax.plot(days, D, 'r', alpha=0.5, lw=2, label='Model')\n",
    "ax.set_ylabel('Number (person)')\n",
    "ax.set_xlabel('Day')\n",
    "ax.yaxis.set_tick_params(length=0)\n",
    "ax.xaxis.set_tick_params(length=0)\n",
    "ax.grid(b=True, which='major', c='w', lw=2, ls='-')\n",
    "legend = ax.legend()\n",
    "legend.get_frame().set_alpha(0.5)\n",
    "for spine in ('top', 'right', 'bottom', 'left'):\n",
    "    ax.spines[spine].set_visible(False)\n",
    "plt.show()"
   ]
  },
  {
   "cell_type": "markdown",
   "id": "cb136801",
   "metadata": {},
   "source": [
    "## Prediction of future"
   ]
  },
  {
   "cell_type": "code",
   "execution_count": null,
   "id": "39ccd3dd",
   "metadata": {
    "scrolled": true
   },
   "outputs": [],
   "source": [
    "t = np.linspace(0, 199, 200)\n",
    "ret = odeint(derivs, y0, t, args=(N, obeta, oepsilon, ogamma, onu, odelta))\n",
    "S, E, I, R, D = ret.T"
   ]
  },
  {
   "cell_type": "code",
   "execution_count": null,
   "id": "a4e09946",
   "metadata": {},
   "outputs": [],
   "source": [
    "fig = plt.figure(facecolor='w')\n",
    "ax = fig.add_subplot(111, facecolor='#dddddd', axisbelow=True)\n",
    "ax.plot(t,  I, 'r', alpha=0.5, lw=2, label='Model for new cases')\n",
    "ax.plot(days, xtc, 'g', alpha=0.5, lw=2, label='Actual new cases')\n",
    "ax.set_xlabel('Time (days)')\n",
    "ax.set_ylabel('Number (person)')\n",
    "ax.yaxis.set_tick_params(length=0)\n",
    "ax.xaxis.set_tick_params(length=0)\n",
    "ax.grid(b=True, which='major', c='w', lw=2, ls='-')\n",
    "legend = ax.legend()\n",
    "legend.get_frame().set_alpha(0.5)\n",
    "for spine in ('top', 'right', 'bottom', 'left'):\n",
    "    ax.spines[spine].set_visible(False)\n",
    "plt.show()"
   ]
  },
  {
   "cell_type": "code",
   "execution_count": null,
   "id": "08a0bea5",
   "metadata": {
    "scrolled": false
   },
   "outputs": [],
   "source": [
    "fig = plt.figure(facecolor='w')\n",
    "ax = fig.add_subplot(111, facecolor='#dddddd', axisbelow=True)\n",
    "ax.plot(t,  D, 'r', alpha=0.5, lw=2, label='Model for total deaths')\n",
    "ax.plot(days, xtd, 'b', alpha=0.5, lw=2, label='Actual total deaths')\n",
    "ax.set_xlabel('Time (days)')\n",
    "ax.set_ylabel('Number (person)')\n",
    "ax.yaxis.set_tick_params(length=0)\n",
    "ax.xaxis.set_tick_params(length=0)\n",
    "ax.grid(b=True, which='major', c='w', lw=2, ls='-')\n",
    "legend = ax.legend()\n",
    "legend.get_frame().set_alpha(0.5)\n",
    "for spine in ('top', 'right', 'bottom', 'left'):\n",
    "    ax.spines[spine].set_visible(False)\n",
    "plt.show()"
   ]
  },
  {
   "cell_type": "code",
   "execution_count": null,
   "id": "a953dc9d",
   "metadata": {},
   "outputs": [],
   "source": [
    "fig = plt.figure(facecolor='w')\n",
    "ax = fig.add_subplot(111, facecolor='#dddddd', axisbelow=True)\n",
    "ax.plot(t[1:],  np.diff(D), 'r', alpha=0.5, lw=2, label='Model for daily deaths')\n",
    "ax.plot(days, icf.loc[start_date: , 'new_deaths_smoothed'].values, 'b', alpha=0.5, lw=2, label='Actual daily deaths')\n",
    "ax.set_xlabel('Time (days)')\n",
    "ax.set_ylabel('Number (person)')\n",
    "ax.yaxis.set_tick_params(length=0)\n",
    "ax.xaxis.set_tick_params(length=0)\n",
    "ax.grid(b=True, which='major', c='w', lw=2, ls='-')\n",
    "legend = ax.legend()\n",
    "legend.get_frame().set_alpha(0.5)\n",
    "for spine in ('top', 'right', 'bottom', 'left'):\n",
    "    ax.spines[spine].set_visible(False)\n",
    "plt.show()\n",
    "ox"
   ]
  },
  {
   "cell_type": "markdown",
   "id": "2d2e710d",
   "metadata": {},
   "source": [
    "## Conclusion"
   ]
  },
  {
   "cell_type": "markdown",
   "id": "25bff943",
   "metadata": {},
   "source": [
    "The SIR model for the spread of contagious diseases is implemented. Searching for the optimized parameters of the model to fit the currently available data, it was found that there are a lot variables and options that can be investigated. Many methods were tried, but to summarize, only a simple code for model optimization is presented. \n",
    "\n",
    "At this stage, the model was used in a relatively simple form. People were put into 4 compartments of susceptible, infected, removed and dead. To make the model closer to the Covid-19 behavior, recovered people can lose immunity towards the virus at a certain rate. So, people may become susceptible again after infection and recovery. The number of dead people was used in the optimization process, that is why they are studied separately in this model.\n",
    "\n",
    "The parameters of the model were considered to be fixed over time. This is not necessarily the case, even in a particular variant of the virus. Varying the parameters can be one path to continue the study. On the other hand, the variants can be seen in different places of the world at the same time. To make the model more flexible, the model can be consisted of several SIR models and the combination to be used to predict the future of the disease. \n",
    "\n",
    "Compared to ARIMA-based prediction models, the SIR model is much more capable to predict the maximums and minimums of the studied data. A combination of ARIMA-based models and SIR models can be a good method for predictions."
   ]
  }
 ],
 "metadata": {
  "kernelspec": {
   "display_name": "Python 3 (ipykernel)",
   "language": "python",
   "name": "python3"
  },
  "language_info": {
   "codemirror_mode": {
    "name": "ipython",
    "version": 3
   },
   "file_extension": ".py",
   "mimetype": "text/x-python",
   "name": "python",
   "nbconvert_exporter": "python",
   "pygments_lexer": "ipython3",
   "version": "3.9.7"
  }
 },
 "nbformat": 4,
 "nbformat_minor": 5
}
