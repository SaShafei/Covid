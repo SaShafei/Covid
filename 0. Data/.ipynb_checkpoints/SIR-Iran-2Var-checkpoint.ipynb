{
 "cells": [
  {
   "cell_type": "code",
   "execution_count": 25,
   "id": "427aa974",
   "metadata": {},
   "outputs": [
    {
     "data": {
      "text/html": [
       "<div>\n",
       "<style scoped>\n",
       "    .dataframe tbody tr th:only-of-type {\n",
       "        vertical-align: middle;\n",
       "    }\n",
       "\n",
       "    .dataframe tbody tr th {\n",
       "        vertical-align: top;\n",
       "    }\n",
       "\n",
       "    .dataframe thead th {\n",
       "        text-align: right;\n",
       "    }\n",
       "</style>\n",
       "<table border=\"1\" class=\"dataframe\">\n",
       "  <thead>\n",
       "    <tr style=\"text-align: right;\">\n",
       "      <th></th>\n",
       "      <th>total_cases</th>\n",
       "      <th>new_cases</th>\n",
       "      <th>new_cases_smoothed</th>\n",
       "      <th>total_deaths</th>\n",
       "      <th>new_deaths</th>\n",
       "      <th>new_deaths_smoothed</th>\n",
       "      <th>total_vaccinations_f</th>\n",
       "      <th>stringency_index_f</th>\n",
       "    </tr>\n",
       "    <tr>\n",
       "      <th>date</th>\n",
       "      <th></th>\n",
       "      <th></th>\n",
       "      <th></th>\n",
       "      <th></th>\n",
       "      <th></th>\n",
       "      <th></th>\n",
       "      <th></th>\n",
       "      <th></th>\n",
       "    </tr>\n",
       "  </thead>\n",
       "  <tbody>\n",
       "    <tr>\n",
       "      <th>2020-02-19</th>\n",
       "      <td>2</td>\n",
       "      <td>2</td>\n",
       "      <td>NaN</td>\n",
       "      <td>2</td>\n",
       "      <td>2</td>\n",
       "      <td>NaN</td>\n",
       "      <td>0.00</td>\n",
       "      <td>0.00</td>\n",
       "    </tr>\n",
       "    <tr>\n",
       "      <th>2020-02-20</th>\n",
       "      <td>5</td>\n",
       "      <td>3</td>\n",
       "      <td>NaN</td>\n",
       "      <td>2</td>\n",
       "      <td>0</td>\n",
       "      <td>NaN</td>\n",
       "      <td>0.00</td>\n",
       "      <td>2.78</td>\n",
       "    </tr>\n",
       "    <tr>\n",
       "      <th>2020-02-21</th>\n",
       "      <td>18</td>\n",
       "      <td>13</td>\n",
       "      <td>NaN</td>\n",
       "      <td>4</td>\n",
       "      <td>2</td>\n",
       "      <td>NaN</td>\n",
       "      <td>0.00</td>\n",
       "      <td>2.78</td>\n",
       "    </tr>\n",
       "    <tr>\n",
       "      <th>2020-02-22</th>\n",
       "      <td>28</td>\n",
       "      <td>10</td>\n",
       "      <td>NaN</td>\n",
       "      <td>5</td>\n",
       "      <td>1</td>\n",
       "      <td>NaN</td>\n",
       "      <td>0.00</td>\n",
       "      <td>11.11</td>\n",
       "    </tr>\n",
       "    <tr>\n",
       "      <th>2020-02-23</th>\n",
       "      <td>43</td>\n",
       "      <td>15</td>\n",
       "      <td>NaN</td>\n",
       "      <td>8</td>\n",
       "      <td>3</td>\n",
       "      <td>NaN</td>\n",
       "      <td>0.00</td>\n",
       "      <td>11.11</td>\n",
       "    </tr>\n",
       "    <tr>\n",
       "      <th>...</th>\n",
       "      <td>...</td>\n",
       "      <td>...</td>\n",
       "      <td>...</td>\n",
       "      <td>...</td>\n",
       "      <td>...</td>\n",
       "      <td>...</td>\n",
       "      <td>...</td>\n",
       "      <td>...</td>\n",
       "    </tr>\n",
       "    <tr>\n",
       "      <th>2022-02-12</th>\n",
       "      <td>6780453</td>\n",
       "      <td>18598</td>\n",
       "      <td>33,802.29</td>\n",
       "      <td>133570</td>\n",
       "      <td>133</td>\n",
       "      <td>117.86</td>\n",
       "      <td>137,334,302.00</td>\n",
       "      <td>62.04</td>\n",
       "    </tr>\n",
       "    <tr>\n",
       "      <th>2022-02-13</th>\n",
       "      <td>6806265</td>\n",
       "      <td>25812</td>\n",
       "      <td>32,428.43</td>\n",
       "      <td>133718</td>\n",
       "      <td>148</td>\n",
       "      <td>126.86</td>\n",
       "      <td>137,659,890.00</td>\n",
       "      <td>62.04</td>\n",
       "    </tr>\n",
       "    <tr>\n",
       "      <th>2022-02-14</th>\n",
       "      <td>6835221</td>\n",
       "      <td>28956</td>\n",
       "      <td>30,876.57</td>\n",
       "      <td>133886</td>\n",
       "      <td>168</td>\n",
       "      <td>136.00</td>\n",
       "      <td>137,986,813.00</td>\n",
       "      <td>62.04</td>\n",
       "    </tr>\n",
       "    <tr>\n",
       "      <th>2022-02-15</th>\n",
       "      <td>6860255</td>\n",
       "      <td>25034</td>\n",
       "      <td>28,916.14</td>\n",
       "      <td>134053</td>\n",
       "      <td>167</td>\n",
       "      <td>143.57</td>\n",
       "      <td>138,197,905.00</td>\n",
       "      <td>62.04</td>\n",
       "    </tr>\n",
       "    <tr>\n",
       "      <th>2022-02-16</th>\n",
       "      <td>6876565</td>\n",
       "      <td>16310</td>\n",
       "      <td>25,662.57</td>\n",
       "      <td>134238</td>\n",
       "      <td>185</td>\n",
       "      <td>153.43</td>\n",
       "      <td>138,357,387.00</td>\n",
       "      <td>62.04</td>\n",
       "    </tr>\n",
       "  </tbody>\n",
       "</table>\n",
       "<p>729 rows × 8 columns</p>\n",
       "</div>"
      ],
      "text/plain": [
       "            total_cases  new_cases  new_cases_smoothed  total_deaths  \\\n",
       "date                                                                   \n",
       "2020-02-19            2          2                 NaN             2   \n",
       "2020-02-20            5          3                 NaN             2   \n",
       "2020-02-21           18         13                 NaN             4   \n",
       "2020-02-22           28         10                 NaN             5   \n",
       "2020-02-23           43         15                 NaN             8   \n",
       "...                 ...        ...                 ...           ...   \n",
       "2022-02-12      6780453      18598           33,802.29        133570   \n",
       "2022-02-13      6806265      25812           32,428.43        133718   \n",
       "2022-02-14      6835221      28956           30,876.57        133886   \n",
       "2022-02-15      6860255      25034           28,916.14        134053   \n",
       "2022-02-16      6876565      16310           25,662.57        134238   \n",
       "\n",
       "            new_deaths  new_deaths_smoothed  total_vaccinations_f  \\\n",
       "date                                                                \n",
       "2020-02-19           2                  NaN                  0.00   \n",
       "2020-02-20           0                  NaN                  0.00   \n",
       "2020-02-21           2                  NaN                  0.00   \n",
       "2020-02-22           1                  NaN                  0.00   \n",
       "2020-02-23           3                  NaN                  0.00   \n",
       "...                ...                  ...                   ...   \n",
       "2022-02-12         133               117.86        137,334,302.00   \n",
       "2022-02-13         148               126.86        137,659,890.00   \n",
       "2022-02-14         168               136.00        137,986,813.00   \n",
       "2022-02-15         167               143.57        138,197,905.00   \n",
       "2022-02-16         185               153.43        138,357,387.00   \n",
       "\n",
       "            stringency_index_f  \n",
       "date                            \n",
       "2020-02-19                0.00  \n",
       "2020-02-20                2.78  \n",
       "2020-02-21                2.78  \n",
       "2020-02-22               11.11  \n",
       "2020-02-23               11.11  \n",
       "...                        ...  \n",
       "2022-02-12               62.04  \n",
       "2022-02-13               62.04  \n",
       "2022-02-14               62.04  \n",
       "2022-02-15               62.04  \n",
       "2022-02-16               62.04  \n",
       "\n",
       "[729 rows x 8 columns]"
      ]
     },
     "execution_count": 25,
     "metadata": {},
     "output_type": "execute_result"
    }
   ],
   "source": [
    "import pandas as pd\n",
    "import numpy as np\n",
    "# import seaborn as sns\n",
    "from math import floor, sqrt\n",
    "import matplotlib.pyplot as plt\n",
    "from sklearn.metrics import mean_absolute_error, mean_absolute_percentage_error, mean_squared_error\n",
    "from statsmodels.tsa.statespace.sarimax import SARIMAX\n",
    "\n",
    "ic = pd.read_excel(\"D:\\DS\\Mine\\Corona\\I22-02.xlsx\", index_col=0, parse_dates=[0])\n",
    "ic['total_vaccinations_f'] = ic['total_vaccinations'].interpolate(method='linear').fillna(0)\n",
    "ic['stringency_index_f'] = ic['stringency_index'].fillna(method=\"ffill\")\n",
    "icf = ic.loc[ : , ['total_cases', 'new_cases', 'new_cases_smoothed',\n",
    "                   'total_deaths', 'new_deaths', 'new_deaths_smoothed', 'total_vaccinations_f', 'stringency_index_f']]\n",
    "icf = icf.asfreq(None)\n",
    "pd.options.display.float_format = '{:,.2f}'.format\n",
    "# pd.set_option('display.max_rows', 2000)\n",
    "icf"
   ]
  },
  {
   "cell_type": "code",
   "execution_count": 26,
   "id": "32667fa0",
   "metadata": {
    "scrolled": true
   },
   "outputs": [
    {
     "data": {
      "text/plain": [
       "(date\n",
       " 2022-01-01    1,785.43\n",
       " 2022-01-02    1,735.86\n",
       " 2022-01-03    1,694.43\n",
       " 2022-01-04    1,634.14\n",
       " 2022-01-05    1,529.29\n",
       " 2022-01-06    1,478.29\n",
       " 2022-01-07    1,403.29\n",
       " 2022-01-08    1,360.29\n",
       " 2022-01-09    1,356.00\n",
       " 2022-01-10    1,392.43\n",
       " 2022-01-11    1,428.86\n",
       " 2022-01-12    1,560.00\n",
       " 2022-01-13    1,676.43\n",
       " 2022-01-14    1,870.86\n",
       " 2022-01-15    1,973.71\n",
       " 2022-01-16    2,089.71\n",
       " 2022-01-17    2,265.57\n",
       " 2022-01-18    2,507.29\n",
       " 2022-01-19    2,788.86\n",
       " 2022-01-20    3,112.29\n",
       " 2022-01-21    3,503.29\n",
       " 2022-01-22    3,800.71\n",
       " 2022-01-23    4,208.14\n",
       " 2022-01-24    4,855.00\n",
       " 2022-01-25    5,672.86\n",
       " 2022-01-26    6,785.86\n",
       " 2022-01-27    8,161.14\n",
       " 2022-01-28    9,801.29\n",
       " 2022-01-29   10,976.71\n",
       " 2022-01-30   13,384.14\n",
       " 2022-01-31   16,427.57\n",
       " 2022-02-01   20,097.86\n",
       " 2022-02-02   23,856.29\n",
       " 2022-02-03   27,157.71\n",
       " 2022-02-04   30,036.43\n",
       " 2022-02-05   31,664.86\n",
       " 2022-02-06   33,583.86\n",
       " 2022-02-07   35,130.14\n",
       " 2022-02-08   35,656.86\n",
       " 2022-02-09   35,789.00\n",
       " 2022-02-10   35,258.43\n",
       " 2022-02-11   34,449.71\n",
       " 2022-02-12   33,802.29\n",
       " 2022-02-13   32,428.43\n",
       " 2022-02-14   30,876.57\n",
       " 2022-02-15   28,916.14\n",
       " 2022-02-16   25,662.57\n",
       " Freq: D, Name: new_cases_smoothed, dtype: float64,\n",
       " 47)"
      ]
     },
     "execution_count": 26,
     "metadata": {},
     "output_type": "execute_result"
    }
   ],
   "source": [
    "icn = icf.loc['2022-01-01':, 'new_cases_smoothed']\n",
    "xt = icn.values\n",
    "icn, len(xt)"
   ]
  },
  {
   "cell_type": "code",
   "execution_count": 27,
   "id": "f2d79b27",
   "metadata": {},
   "outputs": [
    {
     "data": {
      "text/plain": [
       "<AxesSubplot:xlabel='date'>"
      ]
     },
     "execution_count": 27,
     "metadata": {},
     "output_type": "execute_result"
    },
    {
     "data": {
      "image/png": "[encoded data removed]",
      "text/plain": [
       "<Figure size 432x288 with 1 Axes>"
      ]
     },
     "metadata": {
      "needs_background": "light"
     },
     "output_type": "display_data"
    }
   ],
   "source": [
    "icn.plot()"
   ]
  },
  {
   "cell_type": "code",
   "execution_count": 28,
   "id": "1305ebba",
   "metadata": {},
   "outputs": [
    {
     "data": {
      "image/png": "[encoded data removed]",
      "text/plain": [
       "<Figure size 432x288 with 1 Axes>"
      ]
     },
     "metadata": {},
     "output_type": "display_data"
    }
   ],
   "source": [
    "import numpy as np\n",
    "from scipy.integrate import odeint\n",
    "import matplotlib.pyplot as plt\n",
    "from scipy.optimize import curve_fit\n",
    "\n",
    "    # The SIR model differential equations.\n",
    "def derivs(y, t, N, beta, gamma, nu, delta):\n",
    "    S, I, R, D = y\n",
    "    dSdt = -beta * S * I / N + delta * R - nu * R\n",
    "    dIdt = beta * S * I / N - gamma * I\n",
    "    dRdt = gamma * I - delta * R - nu * R\n",
    "    dDdt = nu * R\n",
    "    return dSdt, dIdt, dRdt, dDdt\n",
    "\n",
    "    # Main\n",
    "    # Initial conditions vector\n",
    "    # Total population, N.\n",
    "N = 80 * 10 ** 6\n",
    "    # Initial number of infected and recovered individuals, I0 and R0.\n",
    "I0, R0 = 1300, 6.5 * 10 ** 6\n",
    "    # Everyone else, S0, is susceptible to infection initially.\n",
    "S0 = N - I0 - R0\n",
    "D0 = 130 * 1000\n",
    "    # Contact rate, beta, and mean recovery rate, gamma, (in 1/days).\n",
    "beta, gamma = 0.2, 0.1\n",
    "nu = 0.0001\n",
    "delta = 0.01\n",
    "\n",
    "    # A grid of time points (in days)\n",
    "t = np.linspace(0, 149, 150)\n",
    "y0 = S0, I0, R0, D0\n",
    "\n",
    "    # Integrate the SIR equations over the time grid, t.\n",
    "ret = odeint(derivs, y0, t, args=(N, beta, gamma, nu, delta))\n",
    "S, I, R, D = ret.T\n",
    "\n",
    "    # Plot the data on three separate curves for S(t), I(t) and R(t)\n",
    "fig = plt.figure(facecolor='w')\n",
    "ax = fig.add_subplot(111, facecolor='#dddddd', axisbelow=True)\n",
    "ax.plot(t, S, 'b', alpha=0.5, lw=2, label='Susceptible')\n",
    "ax.plot(t, I, 'r', alpha=0.5, lw=2, label='Infected')\n",
    "ax.plot(t, R, 'g', alpha=0.5, lw=2, label='Recovered')\n",
    "ax.plot(t, D, 'c', alpha=0.5, lw=2, label='Death')\n",
    "ax.set_xlabel('Time (days)')\n",
    "ax.set_ylabel('Number (person)')\n",
    "# ax.set_ylim(0,1.2)\n",
    "ax.yaxis.set_tick_params(length=0)\n",
    "ax.xaxis.set_tick_params(length=0)\n",
    "ax.grid(b=True, which='major', c='w', lw=2, ls='-')\n",
    "legend = ax.legend()\n",
    "legend.get_frame().set_alpha(0.5)\n",
    "for spine in ('top', 'right', 'bottom', 'left'):\n",
    "    ax.spines[spine].set_visible(False)\n",
    "plt.show()\n"
   ]
  },
  {
   "cell_type": "code",
   "execution_count": 29,
   "id": "c9ee1d70",
   "metadata": {},
   "outputs": [],
   "source": [
    "def infecteds(x, ebeta, egamma, enu, edelta):\n",
    "#     print('Infecteds (beta, gamma, nu, delta):', ebeta, egamma, enu, edelta, x)\n",
    "    if (isinstance(x, np.ndarray)):\n",
    "        ans = [0] * len(x)\n",
    "        for i in range(len(x)):\n",
    "            if (x[i] == 0):\n",
    "                x[i] = 0.01\n",
    "            t = np.linspace(0, x[i], 100)\n",
    "            res = odeint(derivs, y0, t, args=(N, ebeta, egamma, enu, edelta))\n",
    "            S, I, R, D = res.T\n",
    "            ans[i] = I[-1]\n",
    "    else:\n",
    "        t = np.linspace(0, x, 100)\n",
    "        res = odeint(derivs, y0, t, args=(N, ebeta, egamma, enu, edelta))\n",
    "        S, I, R, D = res.T\n",
    "        ans = I[-1]\n",
    "    return ans"
   ]
  },
  {
   "cell_type": "code",
   "execution_count": 38,
   "id": "fa933459",
   "metadata": {},
   "outputs": [
    {
     "name": "stdout",
     "output_type": "stream",
     "text": [
      "Curve fitting is starting.\n"
     ]
    },
    {
     "ename": "ValueError",
     "evalue": "too many values to unpack (expected 2)",
     "output_type": "error",
     "traceback": [
      "\u001b[1;31m---------------------------------------------------------------------------\u001b[0m",
      "\u001b[1;31mValueError\u001b[0m                                Traceback (most recent call last)",
      "\u001b[1;32m~\\AppData\\Local\\Temp/ipykernel_1280/1770200679.py\u001b[0m in \u001b[0;36m<module>\u001b[1;34m\u001b[0m\n\u001b[0;32m      6\u001b[0m \u001b[0mparam_bounds\u001b[0m\u001b[1;33m=\u001b[0m\u001b[1;33m(\u001b[0m\u001b[1;33m[\u001b[0m\u001b[1;36m0\u001b[0m\u001b[1;33m,\u001b[0m \u001b[1;36m0\u001b[0m\u001b[1;33m,\u001b[0m\u001b[1;33m-\u001b[0m\u001b[0mnp\u001b[0m\u001b[1;33m.\u001b[0m\u001b[0minf\u001b[0m\u001b[1;33m]\u001b[0m\u001b[1;33m,\u001b[0m \u001b[1;33m[\u001b[0m\u001b[1;36m0\u001b[0m\u001b[1;33m,\u001b[0m \u001b[1;36m1\u001b[0m\u001b[1;33m,\u001b[0m\u001b[1;33m-\u001b[0m\u001b[0mnp\u001b[0m\u001b[1;33m.\u001b[0m\u001b[0minf\u001b[0m\u001b[1;33m]\u001b[0m\u001b[1;33m,\u001b[0m \u001b[1;33m[\u001b[0m\u001b[1;36m0\u001b[0m\u001b[1;33m,\u001b[0m\u001b[1;36m2\u001b[0m\u001b[1;33m,\u001b[0m\u001b[1;33m-\u001b[0m\u001b[0mnp\u001b[0m\u001b[1;33m.\u001b[0m\u001b[0minf\u001b[0m\u001b[1;33m]\u001b[0m\u001b[1;33m,\u001b[0m\u001b[1;33m[\u001b[0m\u001b[1;36m0\u001b[0m\u001b[1;33m,\u001b[0m\u001b[1;36m3\u001b[0m\u001b[1;33m,\u001b[0m\u001b[0mnp\u001b[0m\u001b[1;33m.\u001b[0m\u001b[0minf\u001b[0m\u001b[1;33m]\u001b[0m\u001b[1;33m)\u001b[0m\u001b[1;33m\u001b[0m\u001b[1;33m\u001b[0m\u001b[0m\n\u001b[0;32m      7\u001b[0m \u001b[1;33m\u001b[0m\u001b[0m\n\u001b[1;32m----> 8\u001b[1;33m \u001b[0mpopt\u001b[0m \u001b[1;33m=\u001b[0m \u001b[0mcurve_fit\u001b[0m\u001b[1;33m(\u001b[0m\u001b[0minfecteds\u001b[0m\u001b[1;33m,\u001b[0m \u001b[0mxdata\u001b[0m\u001b[1;33m,\u001b[0m \u001b[0mydata\u001b[0m\u001b[1;33m,\u001b[0m \u001b[0mp0\u001b[0m \u001b[1;33m=\u001b[0m \u001b[0mpzero\u001b[0m\u001b[1;33m,\u001b[0m \u001b[0mbounds\u001b[0m\u001b[1;33m=\u001b[0m\u001b[0mparam_bounds\u001b[0m\u001b[1;33m)\u001b[0m\u001b[1;33m[\u001b[0m\u001b[1;36m0\u001b[0m\u001b[1;33m]\u001b[0m\u001b[1;33m\u001b[0m\u001b[1;33m\u001b[0m\u001b[0m\n\u001b[0m\u001b[0;32m      9\u001b[0m \u001b[0mprint\u001b[0m\u001b[1;33m(\u001b[0m\u001b[1;34m'Curve fitting is done.'\u001b[0m\u001b[1;33m)\u001b[0m\u001b[1;33m\u001b[0m\u001b[1;33m\u001b[0m\u001b[0m\n\u001b[0;32m     10\u001b[0m \u001b[0my_hat\u001b[0m \u001b[1;33m=\u001b[0m \u001b[1;33m[\u001b[0m\u001b[0minfecteds\u001b[0m\u001b[1;33m(\u001b[0m\u001b[0mx\u001b[0m\u001b[1;33m,\u001b[0m \u001b[0mpopt\u001b[0m\u001b[1;33m[\u001b[0m\u001b[1;36m0\u001b[0m\u001b[1;33m]\u001b[0m\u001b[1;33m,\u001b[0m \u001b[0mpopt\u001b[0m\u001b[1;33m[\u001b[0m\u001b[1;36m1\u001b[0m\u001b[1;33m]\u001b[0m\u001b[1;33m,\u001b[0m \u001b[0mpopt\u001b[0m\u001b[1;33m[\u001b[0m\u001b[1;36m2\u001b[0m\u001b[1;33m]\u001b[0m\u001b[1;33m,\u001b[0m \u001b[0mpopt\u001b[0m\u001b[1;33m[\u001b[0m\u001b[1;36m3\u001b[0m\u001b[1;33m]\u001b[0m\u001b[1;33m)\u001b[0m \u001b[1;32mfor\u001b[0m \u001b[0mx\u001b[0m \u001b[1;32min\u001b[0m \u001b[0mxdata\u001b[0m\u001b[1;33m]\u001b[0m\u001b[1;33m\u001b[0m\u001b[1;33m\u001b[0m\u001b[0m\n",
      "\u001b[1;32mC:\\ProgramData\\Anaconda3\\lib\\site-packages\\scipy\\optimize\\minpack.py\u001b[0m in \u001b[0;36mcurve_fit\u001b[1;34m(f, xdata, ydata, p0, sigma, absolute_sigma, check_finite, bounds, method, jac, **kwargs)\u001b[0m\n\u001b[0;32m    714\u001b[0m         \u001b[0mn\u001b[0m \u001b[1;33m=\u001b[0m \u001b[0mp0\u001b[0m\u001b[1;33m.\u001b[0m\u001b[0msize\u001b[0m\u001b[1;33m\u001b[0m\u001b[1;33m\u001b[0m\u001b[0m\n\u001b[0;32m    715\u001b[0m \u001b[1;33m\u001b[0m\u001b[0m\n\u001b[1;32m--> 716\u001b[1;33m     \u001b[0mlb\u001b[0m\u001b[1;33m,\u001b[0m \u001b[0mub\u001b[0m \u001b[1;33m=\u001b[0m \u001b[0mprepare_bounds\u001b[0m\u001b[1;33m(\u001b[0m\u001b[0mbounds\u001b[0m\u001b[1;33m,\u001b[0m \u001b[0mn\u001b[0m\u001b[1;33m)\u001b[0m\u001b[1;33m\u001b[0m\u001b[1;33m\u001b[0m\u001b[0m\n\u001b[0m\u001b[0;32m    717\u001b[0m     \u001b[1;32mif\u001b[0m \u001b[0mp0\u001b[0m \u001b[1;32mis\u001b[0m \u001b[1;32mNone\u001b[0m\u001b[1;33m:\u001b[0m\u001b[1;33m\u001b[0m\u001b[1;33m\u001b[0m\u001b[0m\n\u001b[0;32m    718\u001b[0m         \u001b[0mp0\u001b[0m \u001b[1;33m=\u001b[0m \u001b[0m_initialize_feasible\u001b[0m\u001b[1;33m(\u001b[0m\u001b[0mlb\u001b[0m\u001b[1;33m,\u001b[0m \u001b[0mub\u001b[0m\u001b[1;33m)\u001b[0m\u001b[1;33m\u001b[0m\u001b[1;33m\u001b[0m\u001b[0m\n",
      "\u001b[1;32mC:\\ProgramData\\Anaconda3\\lib\\site-packages\\scipy\\optimize\\_lsq\\least_squares.py\u001b[0m in \u001b[0;36mprepare_bounds\u001b[1;34m(bounds, n)\u001b[0m\n\u001b[0;32m     93\u001b[0m \u001b[1;33m\u001b[0m\u001b[0m\n\u001b[0;32m     94\u001b[0m \u001b[1;32mdef\u001b[0m \u001b[0mprepare_bounds\u001b[0m\u001b[1;33m(\u001b[0m\u001b[0mbounds\u001b[0m\u001b[1;33m,\u001b[0m \u001b[0mn\u001b[0m\u001b[1;33m)\u001b[0m\u001b[1;33m:\u001b[0m\u001b[1;33m\u001b[0m\u001b[1;33m\u001b[0m\u001b[0m\n\u001b[1;32m---> 95\u001b[1;33m     \u001b[0mlb\u001b[0m\u001b[1;33m,\u001b[0m \u001b[0mub\u001b[0m \u001b[1;33m=\u001b[0m \u001b[1;33m[\u001b[0m\u001b[0mnp\u001b[0m\u001b[1;33m.\u001b[0m\u001b[0masarray\u001b[0m\u001b[1;33m(\u001b[0m\u001b[0mb\u001b[0m\u001b[1;33m,\u001b[0m \u001b[0mdtype\u001b[0m\u001b[1;33m=\u001b[0m\u001b[0mfloat\u001b[0m\u001b[1;33m)\u001b[0m \u001b[1;32mfor\u001b[0m \u001b[0mb\u001b[0m \u001b[1;32min\u001b[0m \u001b[0mbounds\u001b[0m\u001b[1;33m]\u001b[0m\u001b[1;33m\u001b[0m\u001b[1;33m\u001b[0m\u001b[0m\n\u001b[0m\u001b[0;32m     96\u001b[0m     \u001b[1;32mif\u001b[0m \u001b[0mlb\u001b[0m\u001b[1;33m.\u001b[0m\u001b[0mndim\u001b[0m \u001b[1;33m==\u001b[0m \u001b[1;36m0\u001b[0m\u001b[1;33m:\u001b[0m\u001b[1;33m\u001b[0m\u001b[1;33m\u001b[0m\u001b[0m\n\u001b[0;32m     97\u001b[0m         \u001b[0mlb\u001b[0m \u001b[1;33m=\u001b[0m \u001b[0mnp\u001b[0m\u001b[1;33m.\u001b[0m\u001b[0mresize\u001b[0m\u001b[1;33m(\u001b[0m\u001b[0mlb\u001b[0m\u001b[1;33m,\u001b[0m \u001b[0mn\u001b[0m\u001b[1;33m)\u001b[0m\u001b[1;33m\u001b[0m\u001b[1;33m\u001b[0m\u001b[0m\n",
      "\u001b[1;31mValueError\u001b[0m: too many values to unpack (expected 2)"
     ]
    }
   ],
   "source": [
    "xdata = list(range(len(xt)))\n",
    "ydata = xt\n",
    "\n",
    "pzero = np.array([beta, gamma, nu, delta])\n",
    "print('Curve fitting is starting.')\n",
    "\n",
    "\n",
    "param_bounds=([0, 0,-np.inf], [0, 1,-np.inf], [0,2,-np.inf],[0,3,np.inf])\n",
    "\n",
    "popt = curve_fit(infecteds, xdata, ydata, p0 = pzero, bounds=param_bounds)[0]\n",
    "\n",
    "\n",
    "print('Curve fitting is done.')\n",
    "y_hat = [infecteds(x, popt[0], popt[1], popt[2], popt[3]) for x in xdata]"
   ]
  },
  {
   "cell_type": "code",
   "execution_count": 31,
   "id": "6b38ef47",
   "metadata": {},
   "outputs": [
    {
     "name": "stdout",
     "output_type": "stream",
     "text": [
      "[ 0.10218585  0.00408691 -0.11796077 -0.11811474]\n"
     ]
    }
   ],
   "source": [
    "print(popt)"
   ]
  },
  {
   "cell_type": "code",
   "execution_count": 32,
   "id": "d141eae1",
   "metadata": {},
   "outputs": [],
   "source": [
    "y_hat1 = [infecteds(x, popt[0] * 1.031, popt[1] * 1.02, popt[2], popt[3]) for x in xdata]"
   ]
  },
  {
   "cell_type": "code",
   "execution_count": 33,
   "id": "93fa3bed",
   "metadata": {},
   "outputs": [
    {
     "data": {
      "image/png": "[encoded data removed]",
      "text/plain": [
       "<Figure size 432x288 with 1 Axes>"
      ]
     },
     "metadata": {},
     "output_type": "display_data"
    }
   ],
   "source": [
    "xdata = list(range(len(xt)))\n",
    "fig = plt.figure(facecolor='w')\n",
    "ax = fig.add_subplot(111, facecolor='#dddddd', axisbelow=True)\n",
    "ax.plot(xdata, ydata, 'b', alpha=0.5, lw=2, label='Infected')\n",
    "# ax.plot(xdata, y_hat, 'r', alpha=0.5, lw=2, label='Model')\n",
    "# ax.plot(xdata, y_hat1, 'g', alpha=0.5, lw=2, label='Model1')\n",
    "ax.set_ylabel('Number (person)')\n",
    "\n",
    "xdata1 = list(range(len(xt) + 60))\n",
    "y_hat = [infecteds(x, popt[0], popt[1], popt[2], popt[3]) for x in xdata1]\n",
    "y_hat1 = [infecteds(x, popt[0] * 1.031, popt[1] * 1.02, popt[2], popt[3]) for x in xdata]\n",
    "ax.plot(xdata1, y_hat, 'r', alpha=0.5, lw=2, label='Model')\n",
    "# ax.plot(xdata, y_hat1, 'g', alpha=0.5, lw=2, label='Model1')\n",
    "\n",
    "# ax.set_ylim(0,1.2)\n",
    "ax.yaxis.set_tick_params(length=0)\n",
    "ax.xaxis.set_tick_params(length=0)\n",
    "ax.grid(b=True, which='major', c='w', lw=2, ls='-')\n",
    "legend = ax.legend()\n",
    "legend.get_frame().set_alpha(0.5)\n",
    "for spine in ('top', 'right', 'bottom', 'left'):\n",
    "    ax.spines[spine].set_visible(False)\n",
    "plt.show()"
   ]
  },
  {
   "cell_type": "code",
   "execution_count": 34,
   "id": "cf83e08d",
   "metadata": {},
   "outputs": [
    {
     "name": "stdout",
     "output_type": "stream",
     "text": [
      "(73498700.0, 1300, 6500000.0, 130000)\n",
      "[ 0.10218585  0.00408691 -0.11796077 -0.11811474]\n"
     ]
    },
    {
     "data": {
      "image/png": "[encoded data removed]",
      "text/plain": [
       "<Figure size 432x288 with 1 Axes>"
      ]
     },
     "metadata": {},
     "output_type": "display_data"
    }
   ],
   "source": [
    "t = np.linspace(0, 149, 40)\n",
    "y0 = S0, I0, R0, D0\n",
    "print(y0)\n",
    "print(popt)\n",
    "beta = popt[0]\n",
    "gamma = popt[1]\n",
    "nu = popt[2]\n",
    "delta = popt[3]\n",
    "    # Integrate the SIR equations over the time grid, t.\n",
    "ret = odeint(derivs, y0, t, args=(N, beta, gamma, nu, delta))\n",
    "S, I, R, D = ret.T\n",
    "\n",
    "    # Plot the data on three separate curves for S(t), I(t) and R(t)\n",
    "fig = plt.figure(facecolor='w')\n",
    "ax = fig.add_subplot(111, facecolor='#dddddd', axisbelow=True)\n",
    "# ax.plot(t, S, 'b', alpha=0.5, lw=2, label='Susceptible')\n",
    "ax.plot(t, I, 'r', alpha=0.5, lw=2, label='Infected')\n",
    "# ax.plot(t, R, 'g', alpha=0.5, lw=2, label='Recovered')\n",
    "ax.plot(t, D, 'c', alpha=0.5, lw=2, label='Death')\n",
    "ax.set_xlabel('Time (days)')\n",
    "ax.set_ylabel('Number (person)')\n",
    "# ax.set_ylim(0,1.2)\n",
    "ax.yaxis.set_tick_params(length=0)\n",
    "ax.xaxis.set_tick_params(length=0)\n",
    "ax.grid(b=True, which='major', c='w', lw=2, ls='-')\n",
    "legend = ax.legend()\n",
    "legend.get_frame().set_alpha(0.5)\n",
    "for spine in ('top', 'right', 'bottom', 'left'):\n",
    "    ax.spines[spine].set_visible(False)\n",
    "plt.show()"
   ]
  }
 ],
 "metadata": {
  "kernelspec": {
   "display_name": "Python 3 (ipykernel)",
   "language": "python",
   "name": "python3"
  },
  "language_info": {
   "codemirror_mode": {
    "name": "ipython",
    "version": 3
   },
   "file_extension": ".py",
   "mimetype": "text/x-python",
   "name": "python",
   "nbconvert_exporter": "python",
   "pygments_lexer": "ipython3",
   "version": "3.9.7"
  }
 },
 "nbformat": 4,
 "nbformat_minor": 5
}
