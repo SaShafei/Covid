{
 "cells": [
  {
   "cell_type": "code",
   "execution_count": 197,
   "id": "427aa974",
   "metadata": {},
   "outputs": [
    {
     "data": {
      "text/html": [
       "<div>\n",
       "<style scoped>\n",
       "    .dataframe tbody tr th:only-of-type {\n",
       "        vertical-align: middle;\n",
       "    }\n",
       "\n",
       "    .dataframe tbody tr th {\n",
       "        vertical-align: top;\n",
       "    }\n",
       "\n",
       "    .dataframe thead th {\n",
       "        text-align: right;\n",
       "    }\n",
       "</style>\n",
       "<table border=\"1\" class=\"dataframe\">\n",
       "  <thead>\n",
       "    <tr style=\"text-align: right;\">\n",
       "      <th></th>\n",
       "      <th>total_cases</th>\n",
       "      <th>new_cases</th>\n",
       "      <th>new_cases_smoothed</th>\n",
       "      <th>total_deaths</th>\n",
       "      <th>new_deaths</th>\n",
       "      <th>new_deaths_smoothed</th>\n",
       "      <th>total_vaccinations_f</th>\n",
       "      <th>stringency_index_f</th>\n",
       "    </tr>\n",
       "    <tr>\n",
       "      <th>date</th>\n",
       "      <th></th>\n",
       "      <th></th>\n",
       "      <th></th>\n",
       "      <th></th>\n",
       "      <th></th>\n",
       "      <th></th>\n",
       "      <th></th>\n",
       "      <th></th>\n",
       "    </tr>\n",
       "  </thead>\n",
       "  <tbody>\n",
       "    <tr>\n",
       "      <th>2020-02-19</th>\n",
       "      <td>2</td>\n",
       "      <td>2</td>\n",
       "      <td>NaN</td>\n",
       "      <td>2</td>\n",
       "      <td>2</td>\n",
       "      <td>NaN</td>\n",
       "      <td>0.00</td>\n",
       "      <td>0.00</td>\n",
       "    </tr>\n",
       "    <tr>\n",
       "      <th>2020-02-20</th>\n",
       "      <td>5</td>\n",
       "      <td>3</td>\n",
       "      <td>NaN</td>\n",
       "      <td>2</td>\n",
       "      <td>0</td>\n",
       "      <td>NaN</td>\n",
       "      <td>0.00</td>\n",
       "      <td>2.78</td>\n",
       "    </tr>\n",
       "    <tr>\n",
       "      <th>2020-02-21</th>\n",
       "      <td>18</td>\n",
       "      <td>13</td>\n",
       "      <td>NaN</td>\n",
       "      <td>4</td>\n",
       "      <td>2</td>\n",
       "      <td>NaN</td>\n",
       "      <td>0.00</td>\n",
       "      <td>2.78</td>\n",
       "    </tr>\n",
       "    <tr>\n",
       "      <th>2020-02-22</th>\n",
       "      <td>28</td>\n",
       "      <td>10</td>\n",
       "      <td>NaN</td>\n",
       "      <td>5</td>\n",
       "      <td>1</td>\n",
       "      <td>NaN</td>\n",
       "      <td>0.00</td>\n",
       "      <td>11.11</td>\n",
       "    </tr>\n",
       "    <tr>\n",
       "      <th>2020-02-23</th>\n",
       "      <td>43</td>\n",
       "      <td>15</td>\n",
       "      <td>NaN</td>\n",
       "      <td>8</td>\n",
       "      <td>3</td>\n",
       "      <td>NaN</td>\n",
       "      <td>0.00</td>\n",
       "      <td>11.11</td>\n",
       "    </tr>\n",
       "    <tr>\n",
       "      <th>...</th>\n",
       "      <td>...</td>\n",
       "      <td>...</td>\n",
       "      <td>...</td>\n",
       "      <td>...</td>\n",
       "      <td>...</td>\n",
       "      <td>...</td>\n",
       "      <td>...</td>\n",
       "      <td>...</td>\n",
       "    </tr>\n",
       "    <tr>\n",
       "      <th>2022-02-12</th>\n",
       "      <td>6780453</td>\n",
       "      <td>18598</td>\n",
       "      <td>33,802.29</td>\n",
       "      <td>133570</td>\n",
       "      <td>133</td>\n",
       "      <td>117.86</td>\n",
       "      <td>137,334,302.00</td>\n",
       "      <td>62.04</td>\n",
       "    </tr>\n",
       "    <tr>\n",
       "      <th>2022-02-13</th>\n",
       "      <td>6806265</td>\n",
       "      <td>25812</td>\n",
       "      <td>32,428.43</td>\n",
       "      <td>133718</td>\n",
       "      <td>148</td>\n",
       "      <td>126.86</td>\n",
       "      <td>137,659,890.00</td>\n",
       "      <td>62.04</td>\n",
       "    </tr>\n",
       "    <tr>\n",
       "      <th>2022-02-14</th>\n",
       "      <td>6835221</td>\n",
       "      <td>28956</td>\n",
       "      <td>30,876.57</td>\n",
       "      <td>133886</td>\n",
       "      <td>168</td>\n",
       "      <td>136.00</td>\n",
       "      <td>137,986,813.00</td>\n",
       "      <td>62.04</td>\n",
       "    </tr>\n",
       "    <tr>\n",
       "      <th>2022-02-15</th>\n",
       "      <td>6860255</td>\n",
       "      <td>25034</td>\n",
       "      <td>28,916.14</td>\n",
       "      <td>134053</td>\n",
       "      <td>167</td>\n",
       "      <td>143.57</td>\n",
       "      <td>138,197,905.00</td>\n",
       "      <td>62.04</td>\n",
       "    </tr>\n",
       "    <tr>\n",
       "      <th>2022-02-16</th>\n",
       "      <td>6876565</td>\n",
       "      <td>16310</td>\n",
       "      <td>25,662.57</td>\n",
       "      <td>134238</td>\n",
       "      <td>185</td>\n",
       "      <td>153.43</td>\n",
       "      <td>138,357,387.00</td>\n",
       "      <td>62.04</td>\n",
       "    </tr>\n",
       "  </tbody>\n",
       "</table>\n",
       "<p>729 rows × 8 columns</p>\n",
       "</div>"
      ],
      "text/plain": [
       "            total_cases  new_cases  new_cases_smoothed  total_deaths  \\\n",
       "date                                                                   \n",
       "2020-02-19            2          2                 NaN             2   \n",
       "2020-02-20            5          3                 NaN             2   \n",
       "2020-02-21           18         13                 NaN             4   \n",
       "2020-02-22           28         10                 NaN             5   \n",
       "2020-02-23           43         15                 NaN             8   \n",
       "...                 ...        ...                 ...           ...   \n",
       "2022-02-12      6780453      18598           33,802.29        133570   \n",
       "2022-02-13      6806265      25812           32,428.43        133718   \n",
       "2022-02-14      6835221      28956           30,876.57        133886   \n",
       "2022-02-15      6860255      25034           28,916.14        134053   \n",
       "2022-02-16      6876565      16310           25,662.57        134238   \n",
       "\n",
       "            new_deaths  new_deaths_smoothed  total_vaccinations_f  \\\n",
       "date                                                                \n",
       "2020-02-19           2                  NaN                  0.00   \n",
       "2020-02-20           0                  NaN                  0.00   \n",
       "2020-02-21           2                  NaN                  0.00   \n",
       "2020-02-22           1                  NaN                  0.00   \n",
       "2020-02-23           3                  NaN                  0.00   \n",
       "...                ...                  ...                   ...   \n",
       "2022-02-12         133               117.86        137,334,302.00   \n",
       "2022-02-13         148               126.86        137,659,890.00   \n",
       "2022-02-14         168               136.00        137,986,813.00   \n",
       "2022-02-15         167               143.57        138,197,905.00   \n",
       "2022-02-16         185               153.43        138,357,387.00   \n",
       "\n",
       "            stringency_index_f  \n",
       "date                            \n",
       "2020-02-19                0.00  \n",
       "2020-02-20                2.78  \n",
       "2020-02-21                2.78  \n",
       "2020-02-22               11.11  \n",
       "2020-02-23               11.11  \n",
       "...                        ...  \n",
       "2022-02-12               62.04  \n",
       "2022-02-13               62.04  \n",
       "2022-02-14               62.04  \n",
       "2022-02-15               62.04  \n",
       "2022-02-16               62.04  \n",
       "\n",
       "[729 rows x 8 columns]"
      ]
     },
     "execution_count": 197,
     "metadata": {},
     "output_type": "execute_result"
    }
   ],
   "source": [
    "import pandas as pd\n",
    "import numpy as np\n",
    "# import seaborn as sns\n",
    "from math import floor, sqrt\n",
    "import matplotlib.pyplot as plt\n",
    "from sklearn.metrics import mean_absolute_error, mean_absolute_percentage_error, mean_squared_error\n",
    "from statsmodels.tsa.statespace.sarimax import SARIMAX\n",
    "\n",
    "ic = pd.read_excel(\"D:\\DS\\Mine\\Corona\\I22-02.xlsx\", index_col=0, parse_dates=[0])\n",
    "ic['total_vaccinations_f'] = ic['total_vaccinations'].interpolate(method='linear').fillna(0)\n",
    "ic['stringency_index_f'] = ic['stringency_index'].fillna(method=\"ffill\")\n",
    "icf = ic.loc[ : , ['total_cases', 'new_cases', 'new_cases_smoothed',\n",
    "                   'total_deaths', 'new_deaths', 'new_deaths_smoothed', 'total_vaccinations_f', 'stringency_index_f']]\n",
    "icf = icf.asfreq(None)\n",
    "pd.options.display.float_format = '{:,.2f}'.format\n",
    "# pd.set_option('display.max_rows', 2000)\n",
    "icf"
   ]
  },
  {
   "cell_type": "code",
   "execution_count": 198,
   "id": "32667fa0",
   "metadata": {
    "scrolled": true
   },
   "outputs": [
    {
     "data": {
      "text/plain": [
       "(date\n",
       " 2022-01-15    1,973.71\n",
       " 2022-01-16    2,089.71\n",
       " 2022-01-17    2,265.57\n",
       " 2022-01-18    2,507.29\n",
       " 2022-01-19    2,788.86\n",
       " 2022-01-20    3,112.29\n",
       " 2022-01-21    3,503.29\n",
       " 2022-01-22    3,800.71\n",
       " 2022-01-23    4,208.14\n",
       " 2022-01-24    4,855.00\n",
       " 2022-01-25    5,672.86\n",
       " 2022-01-26    6,785.86\n",
       " 2022-01-27    8,161.14\n",
       " 2022-01-28    9,801.29\n",
       " 2022-01-29   10,976.71\n",
       " 2022-01-30   13,384.14\n",
       " 2022-01-31   16,427.57\n",
       " 2022-02-01   20,097.86\n",
       " 2022-02-02   23,856.29\n",
       " 2022-02-03   27,157.71\n",
       " 2022-02-04   30,036.43\n",
       " 2022-02-05   31,664.86\n",
       " 2022-02-06   33,583.86\n",
       " 2022-02-07   35,130.14\n",
       " 2022-02-08   35,656.86\n",
       " 2022-02-09   35,789.00\n",
       " 2022-02-10   35,258.43\n",
       " 2022-02-11   34,449.71\n",
       " 2022-02-12   33,802.29\n",
       " 2022-02-13   32,428.43\n",
       " 2022-02-14   30,876.57\n",
       " 2022-02-15   28,916.14\n",
       " 2022-02-16   25,662.57\n",
       " Freq: D, Name: new_cases_smoothed, dtype: float64,\n",
       " 33,\n",
       " date\n",
       " 2022-01-15    28.14\n",
       " 2022-01-16    28.14\n",
       " 2022-01-17    25.71\n",
       " 2022-01-18    24.71\n",
       " 2022-01-19    22.86\n",
       " 2022-01-20    21.43\n",
       " 2022-01-21    20.86\n",
       " 2022-01-22    22.57\n",
       " 2022-01-23    22.14\n",
       " 2022-01-24    22.29\n",
       " 2022-01-25    23.00\n",
       " 2022-01-26    24.43\n",
       " 2022-01-27    25.86\n",
       " 2022-01-28    26.29\n",
       " 2022-01-29    25.43\n",
       " 2022-01-30    27.71\n",
       " 2022-01-31    29.00\n",
       " 2022-02-01    32.86\n",
       " 2022-02-02    37.14\n",
       " 2022-02-03    41.57\n",
       " 2022-02-04    46.43\n",
       " 2022-02-05    52.14\n",
       " 2022-02-06    58.00\n",
       " 2022-02-07    68.57\n",
       " 2022-02-08    77.71\n",
       " 2022-02-09    85.86\n",
       " 2022-02-10    95.71\n",
       " 2022-02-11   108.00\n",
       " 2022-02-12   117.86\n",
       " 2022-02-13   126.86\n",
       " 2022-02-14   136.00\n",
       " 2022-02-15   143.57\n",
       " 2022-02-16   153.43\n",
       " Freq: D, Name: new_deaths_smoothed, dtype: float64)"
      ]
     },
     "execution_count": 198,
     "metadata": {},
     "output_type": "execute_result"
    }
   ],
   "source": [
    "start_date = '2022-01-15'\n",
    "icn = icf.loc[start_data: , 'new_cases_smoothed']\n",
    "icd = icf.loc[start_date: , 'new_deaths_smoothed']\n",
    "\n",
    "xt = icn.values\n",
    "xtd = icd.values\n",
    "\n",
    "icn, len(xt), icd"
   ]
  },
  {
   "cell_type": "code",
   "execution_count": 199,
   "id": "f2d79b27",
   "metadata": {},
   "outputs": [
    {
     "data": {
      "text/plain": [
       "<AxesSubplot:xlabel='date'>"
      ]
     },
     "execution_count": 199,
     "metadata": {},
     "output_type": "execute_result"
    },
    {
     "data": {
      "image/png": "[encoded data removed]",
      "text/plain": [
       "<Figure size 432x288 with 1 Axes>"
      ]
     },
     "metadata": {
      "needs_background": "light"
     },
     "output_type": "display_data"
    }
   ],
   "source": [
    "icn.plot()"
   ]
  },
  {
   "cell_type": "code",
   "execution_count": 200,
   "id": "a1746c4f",
   "metadata": {},
   "outputs": [
    {
     "data": {
      "text/plain": [
       "<AxesSubplot:xlabel='date'>"
      ]
     },
     "execution_count": 200,
     "metadata": {},
     "output_type": "execute_result"
    },
    {
     "data": {
      "image/png": "[encoded data removed]",
      "text/plain": [
       "<Figure size 432x288 with 1 Axes>"
      ]
     },
     "metadata": {
      "needs_background": "light"
     },
     "output_type": "display_data"
    }
   ],
   "source": [
    "icd.plot()"
   ]
  },
  {
   "cell_type": "code",
   "execution_count": 211,
   "id": "1305ebba",
   "metadata": {},
   "outputs": [
    {
     "data": {
      "image/png": "[encoded data removed]",
      "text/plain": [
       "<Figure size 432x288 with 1 Axes>"
      ]
     },
     "metadata": {},
     "output_type": "display_data"
    }
   ],
   "source": [
    "import numpy as np\n",
    "from scipy.integrate import odeint\n",
    "import matplotlib.pyplot as plt\n",
    "from scipy.optimize import curve_fit\n",
    "\n",
    "    # The SIR model differential equations.\n",
    "def derivs(y, t, N, beta, gamma, nu, delta):\n",
    "    S, I, R, D = y\n",
    "    dSdt = -beta * S * I / N + delta * R - nu * R\n",
    "    dIdt = beta * S * I / N - gamma * I\n",
    "    dRdt = gamma * I - delta * R - nu * R\n",
    "    dDdt = nu * R\n",
    "    return dSdt, dIdt, dRdt, dDdt\n",
    "\n",
    "    # Main\n",
    "    # Initial conditions vector\n",
    "    # Total population, N.\n",
    "N = 80 * 10 ** 6\n",
    "    # Initial number of infected and recovered individuals, I0 and R0.\n",
    "I0, R0 = 2300, 6.5 * 10 ** 6\n",
    "    # Everyone else, S0, is susceptible to infection initially.\n",
    "S0 = N - I0 - R0\n",
    "D0 = 0 # Only for Omicron\n",
    "# D0 = 130 * 1000\n",
    "    # Contact rate, beta; and mean recovery/removing rate, gamma, (in 1/days).\n",
    "beta, gamma = 0.2, 0.1\n",
    "    # nu: deaths occuring out of removed people, delta: rate of loss of immunity in removed people\n",
    "nu = 0.0001\n",
    "delta = 0.01\n",
    "\n",
    "    # A grid of time points (in days)\n",
    "t = np.linspace(0, 149, 150)\n",
    "y0 = S0, I0, R0, D0\n",
    "\n",
    "    # Integrate the SIR equations over the time grid, t.\n",
    "ret = odeint(derivs, y0, t, args=(N, beta, gamma, nu, delta))\n",
    "S, I, R, D = ret.T\n",
    "\n",
    "    # Plot the data on three separate curves for S(t), I(t) and R(t)\n",
    "fig = plt.figure(facecolor='w')\n",
    "ax = fig.add_subplot(111, facecolor='#dddddd', axisbelow=True)\n",
    "ax.plot(t, S, 'b', alpha=0.5, lw=2, label='Susceptible')\n",
    "ax.plot(t, I, 'r', alpha=0.5, lw=2, label='Infected')\n",
    "ax.plot(t, R, 'g', alpha=0.5, lw=2, label='Recovered')\n",
    "ax.plot(t, D, 'c', alpha=0.5, lw=2, label='Death')\n",
    "ax.set_xlabel('Time (days)')\n",
    "ax.set_ylabel('Number (person)')\n",
    "# ax.set_ylim(0,1.2)\n",
    "ax.yaxis.set_tick_params(length=0)\n",
    "ax.xaxis.set_tick_params(length=0)\n",
    "ax.grid(b=True, which='major', c='w', lw=2, ls='-')\n",
    "legend = ax.legend()\n",
    "legend.get_frame().set_alpha(0.5)\n",
    "for spine in ('top', 'right', 'bottom', 'left'):\n",
    "    ax.spines[spine].set_visible(False)\n",
    "plt.show()\n"
   ]
  },
  {
   "cell_type": "code",
   "execution_count": 259,
   "id": "c9ee1d70",
   "metadata": {},
   "outputs": [],
   "source": [
    "def infecteds(x, ebeta, egamma, enu, edelta):\n",
    "#     print('Infecteds (beta, gamma, nu, delta):', ebeta, egamma, enu, edelta, x)\n",
    "    if (isinstance(x, np.ndarray)):\n",
    "        for i in range(len(x)):\n",
    "            ans = [0] * len(x)\n",
    "            if (x[i] == 0):\n",
    "                x[i] = 0.01\n",
    "            t = np.linspace(0, x[i], 100)\n",
    "            print('Stop', x[i], ebeta, egamma, enu, edelta)\n",
    "            res = odeint(derivs, y0, t, args=(N, ebeta, egamma, enu, edelta))\n",
    "            S, I, R, D = res.T\n",
    "            ans[i] = I[-1]\n",
    "    else:\n",
    "        t = np.linspace(0, x, 100)\n",
    "        res = odeint(derivs, y0, t, args=(N, ebeta, egamma, enu, edelta))\n",
    "        S, I, R, D = res.T\n",
    "        ans = I[-1]\n",
    "    return ans"
   ]
  },
  {
   "cell_type": "code",
   "execution_count": 255,
   "id": "0387acef",
   "metadata": {},
   "outputs": [
    {
     "data": {
      "text/plain": [
       "28377.269016089467"
      ]
     },
     "execution_count": 255,
     "metadata": {},
     "output_type": "execute_result"
    }
   ],
   "source": [
    "infecteds(20, 1, 0.8, 0.000001, 0.01)"
   ]
  },
  {
   "cell_type": "code",
   "execution_count": 238,
   "id": "3cd0d67d",
   "metadata": {},
   "outputs": [],
   "source": [
    "pzero = [0.29,  0.29, 0.0001,  0.01 ]"
   ]
  },
  {
   "cell_type": "code",
   "execution_count": 230,
   "id": "928321ff",
   "metadata": {},
   "outputs": [
    {
     "name": "stdout",
     "output_type": "stream",
     "text": [
      "[1 2]\n",
      "[[1.9737140e+03 2.0897140e+03 2.2655710e+03 2.5072860e+03 2.7888570e+03\n",
      "  3.1122860e+03 3.5032860e+03 3.8007140e+03 4.2081430e+03 4.8550000e+03\n",
      "  5.6728570e+03 6.7858570e+03 8.1611430e+03 9.8012860e+03 1.0976714e+04\n",
      "  1.3384143e+04 1.6427571e+04 2.0097857e+04 2.3856286e+04 2.7157714e+04\n",
      "  3.0036429e+04 3.1664857e+04 3.3583857e+04 3.5130143e+04 3.5656857e+04\n",
      "  3.5789000e+04 3.5258429e+04 3.4449714e+04 3.3802286e+04 3.2428429e+04\n",
      "  3.0876571e+04 2.8916143e+04 2.5662571e+04]\n",
      " [2.8143000e+01 2.8143000e+01 2.5714000e+01 2.4714000e+01 2.2857000e+01\n",
      "  2.1429000e+01 2.0857000e+01 2.2571000e+01 2.2143000e+01 2.2286000e+01\n",
      "  2.3000000e+01 2.4429000e+01 2.5857000e+01 2.6286000e+01 2.5429000e+01\n",
      "  2.7714000e+01 2.9000000e+01 3.2857000e+01 3.7143000e+01 4.1571000e+01\n",
      "  4.6429000e+01 5.2143000e+01 5.8000000e+01 6.8571000e+01 7.7714000e+01\n",
      "  8.5857000e+01 9.5714000e+01 1.0800000e+02 1.1785700e+02 1.2685700e+02\n",
      "  1.3600000e+02 1.4357100e+02 1.5342900e+02]]\n"
     ]
    }
   ],
   "source": [
    "yh = np.array([1, 2])\n",
    "print(yh)\n",
    "\n",
    "y1 = np.array([xt, xtd])\n",
    "print(y1)"
   ]
  },
  {
   "cell_type": "code",
   "execution_count": 260,
   "id": "fa933459",
   "metadata": {},
   "outputs": [
    {
     "name": "stdout",
     "output_type": "stream",
     "text": [
      "[0, 1, 2, 3, 4, 5, 6, 7, 8, 9, 10, 11, 12, 13, 14, 15, 16, 17, 18, 19, 20, 21, 22, 23, 24, 25, 26, 27, 28, 29, 30, 31, 32]\n",
      "[ 1973.714  2089.714  2265.571  2507.286  2788.857  3112.286  3503.286\n",
      "  3800.714  4208.143  4855.     5672.857  6785.857  8161.143  9801.286\n",
      " 10976.714 13384.143 16427.571 20097.857 23856.286 27157.714 30036.429\n",
      " 31664.857 33583.857 35130.143 35656.857 35789.    35258.429 34449.714\n",
      " 33802.286 32428.429 30876.571 28916.143 25662.571]\n",
      "Curve fitting is starting.\n",
      "Stop 0.01 0.29 0.28999999989999997 9.999990000000001e-05 0.01\n"
     ]
    },
    {
     "ename": "UnboundLocalError",
     "evalue": "local variable 'ans' referenced before assignment",
     "output_type": "error",
     "traceback": [
      "\u001b[1;31m---------------------------------------------------------------------------\u001b[0m",
      "\u001b[1;31mUnboundLocalError\u001b[0m                         Traceback (most recent call last)",
      "\u001b[1;32m~\\AppData\\Local\\Temp/ipykernel_1280/1694036223.py\u001b[0m in \u001b[0;36m<module>\u001b[1;34m\u001b[0m\n\u001b[0;32m     16\u001b[0m \u001b[0mparam_bounds\u001b[0m\u001b[1;33m=\u001b[0m\u001b[1;33m(\u001b[0m\u001b[1;33m[\u001b[0m\u001b[1;36m0\u001b[0m\u001b[1;33m,\u001b[0m \u001b[1;36m0.2\u001b[0m\u001b[1;33m,\u001b[0m \u001b[1;36m0\u001b[0m\u001b[1;33m,\u001b[0m \u001b[1;36m0\u001b[0m\u001b[1;33m]\u001b[0m\u001b[1;33m,\u001b[0m \u001b[1;33m[\u001b[0m\u001b[1;36m0.3\u001b[0m\u001b[1;33m,\u001b[0m \u001b[1;36m0.29\u001b[0m\u001b[1;33m,\u001b[0m \u001b[1;36m0.0001\u001b[0m\u001b[1;33m,\u001b[0m \u001b[1;36m0.1\u001b[0m\u001b[1;33m]\u001b[0m\u001b[1;33m)\u001b[0m\u001b[1;33m\u001b[0m\u001b[1;33m\u001b[0m\u001b[0m\n\u001b[0;32m     17\u001b[0m \u001b[1;33m\u001b[0m\u001b[0m\n\u001b[1;32m---> 18\u001b[1;33m \u001b[0mpopt\u001b[0m \u001b[1;33m=\u001b[0m \u001b[0mcurve_fit\u001b[0m\u001b[1;33m(\u001b[0m\u001b[0minfecteds\u001b[0m\u001b[1;33m,\u001b[0m \u001b[0mxdata\u001b[0m\u001b[1;33m,\u001b[0m \u001b[0mydata\u001b[0m\u001b[1;33m,\u001b[0m \u001b[0mp0\u001b[0m \u001b[1;33m=\u001b[0m \u001b[0mpzero\u001b[0m\u001b[1;33m,\u001b[0m \u001b[0mbounds\u001b[0m\u001b[1;33m=\u001b[0m\u001b[0mparam_bounds\u001b[0m\u001b[1;33m)\u001b[0m\u001b[1;33m[\u001b[0m\u001b[1;36m0\u001b[0m\u001b[1;33m]\u001b[0m\u001b[1;33m\u001b[0m\u001b[1;33m\u001b[0m\u001b[0m\n\u001b[0m\u001b[0;32m     19\u001b[0m \u001b[1;33m\u001b[0m\u001b[0m\n\u001b[0;32m     20\u001b[0m \u001b[1;33m\u001b[0m\u001b[0m\n",
      "\u001b[1;32mC:\\ProgramData\\Anaconda3\\lib\\site-packages\\scipy\\optimize\\minpack.py\u001b[0m in \u001b[0;36mcurve_fit\u001b[1;34m(f, xdata, ydata, p0, sigma, absolute_sigma, check_finite, bounds, method, jac, **kwargs)\u001b[0m\n\u001b[0;32m    798\u001b[0m             \u001b[0mkwargs\u001b[0m\u001b[1;33m[\u001b[0m\u001b[1;34m'max_nfev'\u001b[0m\u001b[1;33m]\u001b[0m \u001b[1;33m=\u001b[0m \u001b[0mkwargs\u001b[0m\u001b[1;33m.\u001b[0m\u001b[0mpop\u001b[0m\u001b[1;33m(\u001b[0m\u001b[1;34m'maxfev'\u001b[0m\u001b[1;33m,\u001b[0m \u001b[1;32mNone\u001b[0m\u001b[1;33m)\u001b[0m\u001b[1;33m\u001b[0m\u001b[1;33m\u001b[0m\u001b[0m\n\u001b[0;32m    799\u001b[0m \u001b[1;33m\u001b[0m\u001b[0m\n\u001b[1;32m--> 800\u001b[1;33m         res = least_squares(func, p0, jac=jac, bounds=bounds, method=method,\n\u001b[0m\u001b[0;32m    801\u001b[0m                             **kwargs)\n\u001b[0;32m    802\u001b[0m \u001b[1;33m\u001b[0m\u001b[0m\n",
      "\u001b[1;32mC:\\ProgramData\\Anaconda3\\lib\\site-packages\\scipy\\optimize\\_lsq\\least_squares.py\u001b[0m in \u001b[0;36mleast_squares\u001b[1;34m(fun, x0, jac, bounds, method, ftol, xtol, gtol, x_scale, loss, f_scale, diff_step, tr_solver, tr_options, jac_sparsity, max_nfev, verbose, args, kwargs)\u001b[0m\n\u001b[0;32m    818\u001b[0m         \u001b[0mx0\u001b[0m \u001b[1;33m=\u001b[0m \u001b[0mmake_strictly_feasible\u001b[0m\u001b[1;33m(\u001b[0m\u001b[0mx0\u001b[0m\u001b[1;33m,\u001b[0m \u001b[0mlb\u001b[0m\u001b[1;33m,\u001b[0m \u001b[0mub\u001b[0m\u001b[1;33m)\u001b[0m\u001b[1;33m\u001b[0m\u001b[1;33m\u001b[0m\u001b[0m\n\u001b[0;32m    819\u001b[0m \u001b[1;33m\u001b[0m\u001b[0m\n\u001b[1;32m--> 820\u001b[1;33m     \u001b[0mf0\u001b[0m \u001b[1;33m=\u001b[0m \u001b[0mfun_wrapped\u001b[0m\u001b[1;33m(\u001b[0m\u001b[0mx0\u001b[0m\u001b[1;33m)\u001b[0m\u001b[1;33m\u001b[0m\u001b[1;33m\u001b[0m\u001b[0m\n\u001b[0m\u001b[0;32m    821\u001b[0m \u001b[1;33m\u001b[0m\u001b[0m\n\u001b[0;32m    822\u001b[0m     \u001b[1;32mif\u001b[0m \u001b[0mf0\u001b[0m\u001b[1;33m.\u001b[0m\u001b[0mndim\u001b[0m \u001b[1;33m!=\u001b[0m \u001b[1;36m1\u001b[0m\u001b[1;33m:\u001b[0m\u001b[1;33m\u001b[0m\u001b[1;33m\u001b[0m\u001b[0m\n",
      "\u001b[1;32mC:\\ProgramData\\Anaconda3\\lib\\site-packages\\scipy\\optimize\\_lsq\\least_squares.py\u001b[0m in \u001b[0;36mfun_wrapped\u001b[1;34m(x)\u001b[0m\n\u001b[0;32m    813\u001b[0m \u001b[1;33m\u001b[0m\u001b[0m\n\u001b[0;32m    814\u001b[0m     \u001b[1;32mdef\u001b[0m \u001b[0mfun_wrapped\u001b[0m\u001b[1;33m(\u001b[0m\u001b[0mx\u001b[0m\u001b[1;33m)\u001b[0m\u001b[1;33m:\u001b[0m\u001b[1;33m\u001b[0m\u001b[1;33m\u001b[0m\u001b[0m\n\u001b[1;32m--> 815\u001b[1;33m         \u001b[1;32mreturn\u001b[0m \u001b[0mnp\u001b[0m\u001b[1;33m.\u001b[0m\u001b[0matleast_1d\u001b[0m\u001b[1;33m(\u001b[0m\u001b[0mfun\u001b[0m\u001b[1;33m(\u001b[0m\u001b[0mx\u001b[0m\u001b[1;33m,\u001b[0m \u001b[1;33m*\u001b[0m\u001b[0margs\u001b[0m\u001b[1;33m,\u001b[0m \u001b[1;33m**\u001b[0m\u001b[0mkwargs\u001b[0m\u001b[1;33m)\u001b[0m\u001b[1;33m)\u001b[0m\u001b[1;33m\u001b[0m\u001b[1;33m\u001b[0m\u001b[0m\n\u001b[0m\u001b[0;32m    816\u001b[0m \u001b[1;33m\u001b[0m\u001b[0m\n\u001b[0;32m    817\u001b[0m     \u001b[1;32mif\u001b[0m \u001b[0mmethod\u001b[0m \u001b[1;33m==\u001b[0m \u001b[1;34m'trf'\u001b[0m\u001b[1;33m:\u001b[0m\u001b[1;33m\u001b[0m\u001b[1;33m\u001b[0m\u001b[0m\n",
      "\u001b[1;32mC:\\ProgramData\\Anaconda3\\lib\\site-packages\\scipy\\optimize\\minpack.py\u001b[0m in \u001b[0;36mfunc_wrapped\u001b[1;34m(params)\u001b[0m\n\u001b[0;32m    483\u001b[0m     \u001b[1;32mif\u001b[0m \u001b[0mtransform\u001b[0m \u001b[1;32mis\u001b[0m \u001b[1;32mNone\u001b[0m\u001b[1;33m:\u001b[0m\u001b[1;33m\u001b[0m\u001b[1;33m\u001b[0m\u001b[0m\n\u001b[0;32m    484\u001b[0m         \u001b[1;32mdef\u001b[0m \u001b[0mfunc_wrapped\u001b[0m\u001b[1;33m(\u001b[0m\u001b[0mparams\u001b[0m\u001b[1;33m)\u001b[0m\u001b[1;33m:\u001b[0m\u001b[1;33m\u001b[0m\u001b[1;33m\u001b[0m\u001b[0m\n\u001b[1;32m--> 485\u001b[1;33m             \u001b[1;32mreturn\u001b[0m \u001b[0mfunc\u001b[0m\u001b[1;33m(\u001b[0m\u001b[0mxdata\u001b[0m\u001b[1;33m,\u001b[0m \u001b[1;33m*\u001b[0m\u001b[0mparams\u001b[0m\u001b[1;33m)\u001b[0m \u001b[1;33m-\u001b[0m \u001b[0mydata\u001b[0m\u001b[1;33m\u001b[0m\u001b[1;33m\u001b[0m\u001b[0m\n\u001b[0m\u001b[0;32m    486\u001b[0m     \u001b[1;32melif\u001b[0m \u001b[0mtransform\u001b[0m\u001b[1;33m.\u001b[0m\u001b[0mndim\u001b[0m \u001b[1;33m==\u001b[0m \u001b[1;36m1\u001b[0m\u001b[1;33m:\u001b[0m\u001b[1;33m\u001b[0m\u001b[1;33m\u001b[0m\u001b[0m\n\u001b[0;32m    487\u001b[0m         \u001b[1;32mdef\u001b[0m \u001b[0mfunc_wrapped\u001b[0m\u001b[1;33m(\u001b[0m\u001b[0mparams\u001b[0m\u001b[1;33m)\u001b[0m\u001b[1;33m:\u001b[0m\u001b[1;33m\u001b[0m\u001b[1;33m\u001b[0m\u001b[0m\n",
      "\u001b[1;32m~\\AppData\\Local\\Temp/ipykernel_1280/1219650361.py\u001b[0m in \u001b[0;36minfecteds\u001b[1;34m(x, ebeta, egamma, enu, edelta)\u001b[0m\n\u001b[0;32m      9\u001b[0m             \u001b[0mres\u001b[0m \u001b[1;33m=\u001b[0m \u001b[0modeint\u001b[0m\u001b[1;33m(\u001b[0m\u001b[0mderivs\u001b[0m\u001b[1;33m,\u001b[0m \u001b[0my0\u001b[0m\u001b[1;33m,\u001b[0m \u001b[0mt\u001b[0m\u001b[1;33m,\u001b[0m \u001b[0margs\u001b[0m\u001b[1;33m=\u001b[0m\u001b[1;33m(\u001b[0m\u001b[0mN\u001b[0m\u001b[1;33m,\u001b[0m \u001b[0mebeta\u001b[0m\u001b[1;33m,\u001b[0m \u001b[0megamma\u001b[0m\u001b[1;33m,\u001b[0m \u001b[0menu\u001b[0m\u001b[1;33m,\u001b[0m \u001b[0medelta\u001b[0m\u001b[1;33m)\u001b[0m\u001b[1;33m)\u001b[0m\u001b[1;33m\u001b[0m\u001b[1;33m\u001b[0m\u001b[0m\n\u001b[0;32m     10\u001b[0m             \u001b[0mS\u001b[0m\u001b[1;33m,\u001b[0m \u001b[0mI\u001b[0m\u001b[1;33m,\u001b[0m \u001b[0mR\u001b[0m\u001b[1;33m,\u001b[0m \u001b[0mD\u001b[0m \u001b[1;33m=\u001b[0m \u001b[0mres\u001b[0m\u001b[1;33m.\u001b[0m\u001b[0mT\u001b[0m\u001b[1;33m\u001b[0m\u001b[1;33m\u001b[0m\u001b[0m\n\u001b[1;32m---> 11\u001b[1;33m             \u001b[0mans\u001b[0m\u001b[1;33m[\u001b[0m\u001b[0mi\u001b[0m\u001b[1;33m]\u001b[0m \u001b[1;33m=\u001b[0m \u001b[0mI\u001b[0m\u001b[1;33m[\u001b[0m\u001b[1;33m-\u001b[0m\u001b[1;36m1\u001b[0m\u001b[1;33m]\u001b[0m\u001b[1;33m\u001b[0m\u001b[1;33m\u001b[0m\u001b[0m\n\u001b[0m\u001b[0;32m     12\u001b[0m             \u001b[0mprint\u001b[0m\u001b[1;33m(\u001b[0m\u001b[1;34m'Passes Here'\u001b[0m\u001b[1;33m)\u001b[0m\u001b[1;33m\u001b[0m\u001b[1;33m\u001b[0m\u001b[0m\n\u001b[0;32m     13\u001b[0m     \u001b[1;32melse\u001b[0m\u001b[1;33m:\u001b[0m\u001b[1;33m\u001b[0m\u001b[1;33m\u001b[0m\u001b[0m\n",
      "\u001b[1;31mUnboundLocalError\u001b[0m: local variable 'ans' referenced before assignment"
     ]
    }
   ],
   "source": [
    "# xdata = list(range(len(xt)))\n",
    "xdata = list(range(len(xt)))\n",
    "\n",
    "ydata = xt\n",
    "\n",
    "print(xdata)\n",
    "print(ydata)\n",
    "# pzero = np.array([beta, gamma, nu, delta])\n",
    "print('Curve fitting is starting.')\n",
    "\n",
    "\n",
    "# nu = 0.0001\n",
    "# delta = 0.01\n",
    "\n",
    "# ([-np.inf,0,-np.inf],[np.inf,2,np.inf])\n",
    "param_bounds=([0, 0.2, 0, 0], [0.3, 0.29, 0.0001, 0.1])\n",
    "\n",
    "popt = curve_fit(infecteds, xdata, ydata, p0 = pzero, bounds=param_bounds)[0]\n",
    "\n",
    "\n",
    "print('Curve fitting is done.')\n",
    "y_hat = [infecteds(x, popt[0], popt[1], popt[2], popt[3]) for x in xdata]"
   ]
  },
  {
   "cell_type": "code",
   "execution_count": 187,
   "id": "6b38ef47",
   "metadata": {},
   "outputs": [
    {
     "name": "stdout",
     "output_type": "stream",
     "text": [
      "[3.00000000e-01 2.00000000e-01 1.04855129e-20 1.00000000e-01]\n"
     ]
    }
   ],
   "source": [
    "print(popt)"
   ]
  },
  {
   "cell_type": "code",
   "execution_count": 188,
   "id": "d141eae1",
   "metadata": {},
   "outputs": [],
   "source": [
    "y_hat1 = [infecteds(x, popt[0] * 1.031, popt[1] * 1.02, popt[2], popt[3]) for x in xdata]"
   ]
  },
  {
   "cell_type": "code",
   "execution_count": 189,
   "id": "93fa3bed",
   "metadata": {},
   "outputs": [
    {
     "data": {
      "image/png": "[encoded data removed]",
      "text/plain": [
       "<Figure size 432x288 with 1 Axes>"
      ]
     },
     "metadata": {},
     "output_type": "display_data"
    }
   ],
   "source": [
    "xdata = list(range(len(xt)))\n",
    "fig = plt.figure(facecolor='w')\n",
    "ax = fig.add_subplot(111, facecolor='#dddddd', axisbelow=True)\n",
    "ax.plot(xdata, ydata, 'b', alpha=0.5, lw=2, label='Infected')\n",
    "# ax.plot(xdata, y_hat, 'r', alpha=0.5, lw=2, label='Model')\n",
    "# ax.plot(xdata, y_hat1, 'g', alpha=0.5, lw=2, label='Model1')\n",
    "ax.set_ylabel('Number (person)')\n",
    "\n",
    "xdata1 = list(range(len(xt) + 10))\n",
    "y_hat = [infecteds(x, popt[0], popt[1], popt[2], popt[3]) for x in xdata1]\n",
    "y_hat1 = [infecteds(x, popt[0] * 1.031, popt[1] * 1.02, popt[2], popt[3]) for x in xdata]\n",
    "ax.plot(xdata1, y_hat, 'r', alpha=0.5, lw=2, label='Model')\n",
    "ax.plot(xdata, y_hat1, 'g', alpha=0.5, lw=2, label='Model1')\n",
    "\n",
    "# ax.set_ylim(0,1.2)\n",
    "ax.yaxis.set_tick_params(length=0)\n",
    "ax.xaxis.set_tick_params(length=0)\n",
    "ax.grid(b=True, which='major', c='w', lw=2, ls='-')\n",
    "legend = ax.legend()\n",
    "legend.get_frame().set_alpha(0.5)\n",
    "for spine in ('top', 'right', 'bottom', 'left'):\n",
    "    ax.spines[spine].set_visible(False)\n",
    "plt.show()"
   ]
  },
  {
   "cell_type": "code",
   "execution_count": 190,
   "id": "a9dfdd96",
   "metadata": {},
   "outputs": [
    {
     "name": "stdout",
     "output_type": "stream",
     "text": [
      "[3.00000000e-01 2.00000000e-01 1.04855129e-20 1.00000000e-01]\n"
     ]
    },
    {
     "data": {
      "image/png": "[encoded data removed]",
      "text/plain": [
       "<Figure size 432x288 with 1 Axes>"
      ]
     },
     "metadata": {},
     "output_type": "display_data"
    }
   ],
   "source": [
    "t = np.linspace(0, 149, 40)\n",
    "y0 = S0, I0, R0, D0\n",
    "# print(y0)\n",
    "print(popt)\n",
    "beta = popt[0]\n",
    "gamma = popt[1]\n",
    "nu = popt[2]\n",
    "delta = popt[3]\n",
    "    # Integrate the SIR equations over the time grid, t.\n",
    "ret = odeint(derivs, y0, t, args=(N, beta, gamma, nu, delta))\n",
    "S, I, R, D = ret.T\n",
    "\n",
    "    # Plot the data on three separate curves for S(t), I(t) and R(t)\n",
    "fig = plt.figure(facecolor='w')\n",
    "ax = fig.add_subplot(111, facecolor='#dddddd', axisbelow=True)\n",
    "# ax.plot(t, S, 'b', alpha=0.5, lw=2, label='Susceptible')\n",
    "ax.plot(t, I, 'r', alpha=0.5, lw=2, label='Infected')\n",
    "# ax.plot(t, R, 'g', alpha=0.5, lw=2, label='Recovered')\n",
    "ax.plot(t, D, 'c', alpha=0.5, lw=2, label='Death')\n",
    "ax.set_xlabel('Time (days)')\n",
    "ax.set_ylabel('Number (person)')\n",
    "# ax.set_ylim(0,1.2)\n",
    "ax.yaxis.set_tick_params(length=0)\n",
    "ax.xaxis.set_tick_params(length=0)\n",
    "ax.grid(b=True, which='major', c='w', lw=2, ls='-')\n",
    "legend = ax.legend()\n",
    "legend.get_frame().set_alpha(0.5)\n",
    "for spine in ('top', 'right', 'bottom', 'left'):\n",
    "    ax.spines[spine].set_visible(False)\n",
    "plt.show()"
   ]
  }
 ],
 "metadata": {
  "kernelspec": {
   "display_name": "Python 3 (ipykernel)",
   "language": "python",
   "name": "python3"
  },
  "language_info": {
   "codemirror_mode": {
    "name": "ipython",
    "version": 3
   },
   "file_extension": ".py",
   "mimetype": "text/x-python",
   "name": "python",
   "nbconvert_exporter": "python",
   "pygments_lexer": "ipython3",
   "version": "3.9.7"
  }
 },
 "nbformat": 4,
 "nbformat_minor": 5
}
