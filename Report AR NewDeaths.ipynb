{
 "cells": [
  {
   "cell_type": "markdown",
   "id": "096e1630",
   "metadata": {},
   "source": [
    "# AutoRegression Model"
   ]
  },
  {
   "cell_type": "markdown",
   "id": "974e49fe",
   "metadata": {},
   "source": [
    "## Import, handle missing values, create a clean dataframe"
   ]
  },
  {
   "cell_type": "code",
   "execution_count": 111,
   "id": "87b5eadb",
   "metadata": {},
   "outputs": [
    {
     "data": {
      "text/html": [
       "<div>\n",
       "<style scoped>\n",
       "    .dataframe tbody tr th:only-of-type {\n",
       "        vertical-align: middle;\n",
       "    }\n",
       "\n",
       "    .dataframe tbody tr th {\n",
       "        vertical-align: top;\n",
       "    }\n",
       "\n",
       "    .dataframe thead th {\n",
       "        text-align: right;\n",
       "    }\n",
       "</style>\n",
       "<table border=\"1\" class=\"dataframe\">\n",
       "  <thead>\n",
       "    <tr style=\"text-align: right;\">\n",
       "      <th></th>\n",
       "      <th>datei</th>\n",
       "      <th>total_cases</th>\n",
       "      <th>new_cases</th>\n",
       "      <th>new_cases_smoothed</th>\n",
       "      <th>total_deaths</th>\n",
       "      <th>new_deaths</th>\n",
       "      <th>new_deaths_smoothed</th>\n",
       "      <th>total_vaccinations_f</th>\n",
       "      <th>stringency_index_f</th>\n",
       "    </tr>\n",
       "    <tr>\n",
       "      <th>date</th>\n",
       "      <th></th>\n",
       "      <th></th>\n",
       "      <th></th>\n",
       "      <th></th>\n",
       "      <th></th>\n",
       "      <th></th>\n",
       "      <th></th>\n",
       "      <th></th>\n",
       "      <th></th>\n",
       "    </tr>\n",
       "  </thead>\n",
       "  <tbody>\n",
       "    <tr>\n",
       "      <th>2020-02-19</th>\n",
       "      <td>0</td>\n",
       "      <td>2</td>\n",
       "      <td>2</td>\n",
       "      <td>NaN</td>\n",
       "      <td>2</td>\n",
       "      <td>2</td>\n",
       "      <td>NaN</td>\n",
       "      <td>0.00</td>\n",
       "      <td>0.00</td>\n",
       "    </tr>\n",
       "    <tr>\n",
       "      <th>2020-02-20</th>\n",
       "      <td>1</td>\n",
       "      <td>5</td>\n",
       "      <td>3</td>\n",
       "      <td>NaN</td>\n",
       "      <td>2</td>\n",
       "      <td>0</td>\n",
       "      <td>NaN</td>\n",
       "      <td>0.00</td>\n",
       "      <td>2.78</td>\n",
       "    </tr>\n",
       "    <tr>\n",
       "      <th>2020-02-21</th>\n",
       "      <td>2</td>\n",
       "      <td>18</td>\n",
       "      <td>13</td>\n",
       "      <td>NaN</td>\n",
       "      <td>4</td>\n",
       "      <td>2</td>\n",
       "      <td>NaN</td>\n",
       "      <td>0.00</td>\n",
       "      <td>2.78</td>\n",
       "    </tr>\n",
       "    <tr>\n",
       "      <th>2020-02-22</th>\n",
       "      <td>3</td>\n",
       "      <td>28</td>\n",
       "      <td>10</td>\n",
       "      <td>NaN</td>\n",
       "      <td>5</td>\n",
       "      <td>1</td>\n",
       "      <td>NaN</td>\n",
       "      <td>0.00</td>\n",
       "      <td>11.11</td>\n",
       "    </tr>\n",
       "    <tr>\n",
       "      <th>2020-02-23</th>\n",
       "      <td>4</td>\n",
       "      <td>43</td>\n",
       "      <td>15</td>\n",
       "      <td>NaN</td>\n",
       "      <td>8</td>\n",
       "      <td>3</td>\n",
       "      <td>NaN</td>\n",
       "      <td>0.00</td>\n",
       "      <td>11.11</td>\n",
       "    </tr>\n",
       "    <tr>\n",
       "      <th>...</th>\n",
       "      <td>...</td>\n",
       "      <td>...</td>\n",
       "      <td>...</td>\n",
       "      <td>...</td>\n",
       "      <td>...</td>\n",
       "      <td>...</td>\n",
       "      <td>...</td>\n",
       "      <td>...</td>\n",
       "      <td>...</td>\n",
       "    </tr>\n",
       "    <tr>\n",
       "      <th>2021-11-24</th>\n",
       "      <td>644</td>\n",
       "      <td>6092822</td>\n",
       "      <td>4813</td>\n",
       "      <td>4,989.86</td>\n",
       "      <td>129280</td>\n",
       "      <td>103</td>\n",
       "      <td>107.00</td>\n",
       "      <td>102,145,229.00</td>\n",
       "      <td>69.91</td>\n",
       "    </tr>\n",
       "    <tr>\n",
       "      <th>2021-11-25</th>\n",
       "      <td>645</td>\n",
       "      <td>6097672</td>\n",
       "      <td>4850</td>\n",
       "      <td>4,842.43</td>\n",
       "      <td>129376</td>\n",
       "      <td>96</td>\n",
       "      <td>106.00</td>\n",
       "      <td>102,145,229.00</td>\n",
       "      <td>69.91</td>\n",
       "    </tr>\n",
       "    <tr>\n",
       "      <th>2021-11-26</th>\n",
       "      <td>646</td>\n",
       "      <td>6102056</td>\n",
       "      <td>4384</td>\n",
       "      <td>4,642.43</td>\n",
       "      <td>129462</td>\n",
       "      <td>86</td>\n",
       "      <td>104.00</td>\n",
       "      <td>102,145,229.00</td>\n",
       "      <td>69.91</td>\n",
       "    </tr>\n",
       "    <tr>\n",
       "      <th>2021-11-27</th>\n",
       "      <td>647</td>\n",
       "      <td>6105101</td>\n",
       "      <td>3045</td>\n",
       "      <td>4,571.86</td>\n",
       "      <td>129549</td>\n",
       "      <td>87</td>\n",
       "      <td>99.57</td>\n",
       "      <td>102,145,229.00</td>\n",
       "      <td>69.91</td>\n",
       "    </tr>\n",
       "    <tr>\n",
       "      <th>2021-11-28</th>\n",
       "      <td>648</td>\n",
       "      <td>6108882</td>\n",
       "      <td>3781</td>\n",
       "      <td>4,492.00</td>\n",
       "      <td>129629</td>\n",
       "      <td>80</td>\n",
       "      <td>96.14</td>\n",
       "      <td>102,145,229.00</td>\n",
       "      <td>69.91</td>\n",
       "    </tr>\n",
       "  </tbody>\n",
       "</table>\n",
       "<p>649 rows × 9 columns</p>\n",
       "</div>"
      ],
      "text/plain": [
       "            datei  total_cases  new_cases  new_cases_smoothed  total_deaths  \\\n",
       "date                                                                          \n",
       "2020-02-19      0            2          2                 NaN             2   \n",
       "2020-02-20      1            5          3                 NaN             2   \n",
       "2020-02-21      2           18         13                 NaN             4   \n",
       "2020-02-22      3           28         10                 NaN             5   \n",
       "2020-02-23      4           43         15                 NaN             8   \n",
       "...           ...          ...        ...                 ...           ...   \n",
       "2021-11-24    644      6092822       4813            4,989.86        129280   \n",
       "2021-11-25    645      6097672       4850            4,842.43        129376   \n",
       "2021-11-26    646      6102056       4384            4,642.43        129462   \n",
       "2021-11-27    647      6105101       3045            4,571.86        129549   \n",
       "2021-11-28    648      6108882       3781            4,492.00        129629   \n",
       "\n",
       "            new_deaths  new_deaths_smoothed  total_vaccinations_f  \\\n",
       "date                                                                \n",
       "2020-02-19           2                  NaN                  0.00   \n",
       "2020-02-20           0                  NaN                  0.00   \n",
       "2020-02-21           2                  NaN                  0.00   \n",
       "2020-02-22           1                  NaN                  0.00   \n",
       "2020-02-23           3                  NaN                  0.00   \n",
       "...                ...                  ...                   ...   \n",
       "2021-11-24         103               107.00        102,145,229.00   \n",
       "2021-11-25          96               106.00        102,145,229.00   \n",
       "2021-11-26          86               104.00        102,145,229.00   \n",
       "2021-11-27          87                99.57        102,145,229.00   \n",
       "2021-11-28          80                96.14        102,145,229.00   \n",
       "\n",
       "            stringency_index_f  \n",
       "date                            \n",
       "2020-02-19                0.00  \n",
       "2020-02-20                2.78  \n",
       "2020-02-21                2.78  \n",
       "2020-02-22               11.11  \n",
       "2020-02-23               11.11  \n",
       "...                        ...  \n",
       "2021-11-24               69.91  \n",
       "2021-11-25               69.91  \n",
       "2021-11-26               69.91  \n",
       "2021-11-27               69.91  \n",
       "2021-11-28               69.91  \n",
       "\n",
       "[649 rows x 9 columns]"
      ]
     },
     "execution_count": 111,
     "metadata": {},
     "output_type": "execute_result"
    }
   ],
   "source": [
    "import pandas as pd\n",
    "import numpy as np\n",
    "import seaborn as sns\n",
    "import math\n",
    "from statsmodels.tsa.ar_model import AutoReg\n",
    "\n",
    "ic = pd.read_excel(\"D:\\DS\\Mine\\Corona\\I21-11.xlsx\", index_col=0, parse_dates=[0]) # Iran Corona for 2021-11-..\n",
    "ic['total_vaccinations_f'] = ic['total_vaccinations'].interpolate(method='linear')\n",
    "ic['stringency_index_f'] = ic['stringency_index'].fillna(method=\"ffill\")\n",
    "icf = ic.loc[ : , ['datei', 'total_cases', 'new_cases', 'new_cases_smoothed',\n",
    "                   'total_deaths', 'new_deaths', 'new_deaths_smoothed', 'total_vaccinations_f', 'stringency_index_f']]\n",
    "\n",
    "icf.loc[:, \"datei\"] = icf[\"datei\"].apply(lambda x: x - 43880)\n",
    "pd.options.display.float_format = '{:,.2f}'.format\n",
    "# pd.set_option('display.max_rows', 2000)\n",
    "icf"
   ]
  },
  {
   "cell_type": "code",
   "execution_count": 112,
   "id": "7d0daf9f",
   "metadata": {},
   "outputs": [
    {
     "data": {
      "text/plain": [
       "<AxesSubplot:xlabel='date'>"
      ]
     },
     "execution_count": 112,
     "metadata": {},
     "output_type": "execute_result"
    },
    {
     "data": {
      "image/png": "[encoded data removed]",
      "text/plain": [
       "<Figure size 432x288 with 1 Axes>"
      ]
     },
     "metadata": {
      "needs_background": "light"
     },
     "output_type": "display_data"
    }
   ],
   "source": [
    "icf.plot(y='new_deaths')"
   ]
  },
  {
   "cell_type": "markdown",
   "id": "c48bda1e",
   "metadata": {},
   "source": [
    "## Defining constants, spliting train and test for AR to predict 7 new_deaths values"
   ]
  },
  {
   "cell_type": "code",
   "execution_count": 113,
   "id": "c597580f",
   "metadata": {},
   "outputs": [
    {
     "name": "stdout",
     "output_type": "stream",
     "text": [
      "Out of 649 samples, 584 samples are devoted to training section and 65 to test section.\n"
     ]
    },
    {
     "data": {
      "text/plain": [
       "(date\n",
       " 2020-02-19      2\n",
       " 2020-02-20      0\n",
       " 2020-02-21      2\n",
       " 2020-02-22      1\n",
       " 2020-02-23      3\n",
       "              ... \n",
       " 2021-09-20    344\n",
       " 2021-09-21    379\n",
       " 2021-09-22    286\n",
       " 2021-09-23    317\n",
       " 2021-09-24    284\n",
       " Name: new_deaths, Length: 584, dtype: int64,\n",
       " date\n",
       " 2021-09-25    290\n",
       " 2021-09-26    278\n",
       " 2021-09-27    289\n",
       " 2021-09-28    239\n",
       " 2021-09-29    272\n",
       " 2021-09-30    268\n",
       " 2021-10-01    235\n",
       " Name: new_deaths, dtype: int64)"
      ]
     },
     "execution_count": 113,
     "metadata": {},
     "output_type": "execute_result"
    }
   ],
   "source": [
    "length = icf.shape[0]                      #Number of samples\n",
    "train_len = math.floor(0.90 * length)      #Of entire data for training\n",
    "test_len = length - train_len              #The rest for actual test \n",
    "prl = 7                                    #prediction lendth: number of days to predict\n",
    "\n",
    "#Focus on new_deaths (index 5):\n",
    "xr = icf.iloc[ :train_len, 5]                          #XTrain\n",
    "xs = icf.iloc[train_len : train_len + prl, 5]          #XTest\n",
    "print('Out of', length, 'samples,', train_len, 'samples are devoted to training section and', test_len, 'to test section.')\n",
    "xr, xs"
   ]
  },
  {
   "cell_type": "markdown",
   "id": "a119554f",
   "metadata": {},
   "source": [
    "## Quick autocorrelation check"
   ]
  },
  {
   "cell_type": "code",
   "execution_count": 114,
   "id": "bf8c83b9",
   "metadata": {
    "scrolled": false
   },
   "outputs": [
    {
     "data": {
      "text/plain": [
       "<AxesSubplot:xlabel='y(t)', ylabel='y(t + 1)'>"
      ]
     },
     "execution_count": 114,
     "metadata": {},
     "output_type": "execute_result"
    },
    {
     "data": {
      "image/png": "[encoded data removed]",
      "text/plain": [
       "<Figure size 432x288 with 1 Axes>"
      ]
     },
     "metadata": {
      "needs_background": "light"
     },
     "output_type": "display_data"
    }
   ],
   "source": [
    "from pandas.plotting import lag_plot\n",
    "lag_plot(xr)"
   ]
  },
  {
   "cell_type": "markdown",
   "id": "8492938c",
   "metadata": {},
   "source": [
    "**>> A high correlation between y(t) and y(t+1) can be seen which is implying that AR can perform well on the dataset.**"
   ]
  },
  {
   "cell_type": "markdown",
   "id": "a77d6bfe",
   "metadata": {},
   "source": [
    "## Observation of number of Lags to consider"
   ]
  },
  {
   "cell_type": "code",
   "execution_count": 115,
   "id": "867e35de",
   "metadata": {
    "scrolled": false
   },
   "outputs": [
    {
     "data": {
      "image/png": "[encoded data removed]",
      "text/plain": [
       "<Figure size 432x288 with 1 Axes>"
      ]
     },
     "metadata": {
      "needs_background": "light"
     },
     "output_type": "display_data"
    }
   ],
   "source": [
    "from matplotlib import pyplot\n",
    "from pandas.plotting import autocorrelation_plot\n",
    "autocorrelation_plot(xr)\n",
    "pyplot.show()"
   ]
  },
  {
   "cell_type": "code",
   "execution_count": 116,
   "id": "97000f3c",
   "metadata": {
    "scrolled": true
   },
   "outputs": [
    {
     "data": {
      "image/png": "[encoded data removed]",
      "text/plain": [
       "<Figure size 432x288 with 1 Axes>"
      ]
     },
     "metadata": {
      "needs_background": "light"
     },
     "output_type": "display_data"
    }
   ],
   "source": [
    "# A more detailed view up to 60 lags only\n",
    "from statsmodels.graphics.tsaplots import plot_acf\n",
    "plot_acf(xr, lags=60)\n",
    "pyplot.show()"
   ]
  },
  {
   "cell_type": "markdown",
   "id": "0638c684",
   "metadata": {},
   "source": [
    "**>> So not more than 50 lags is expected to be useful for autoregression.**"
   ]
  },
  {
   "cell_type": "markdown",
   "id": "1a8a0783",
   "metadata": {},
   "source": [
    "## Running AR using lags = 3"
   ]
  },
  {
   "cell_type": "code",
   "execution_count": 117,
   "id": "0b9b2097",
   "metadata": {
    "scrolled": true
   },
   "outputs": [
    {
     "name": "stdout",
     "output_type": "stream",
     "text": [
      "The fit parameters are:\n"
     ]
    },
    {
     "data": {
      "text/plain": [
       "const           3.66\n",
       "new_deaths.L1   0.70\n",
       "new_deaths.L2   0.20\n",
       "new_deaths.L3   0.09\n",
       "dtype: float64"
      ]
     },
     "execution_count": 117,
     "metadata": {},
     "output_type": "execute_result"
    }
   ],
   "source": [
    "xr.index = pd.DatetimeIndex(xr.index.values, freq=xr.index.inferred_freq)\n",
    "arm = AutoReg(endog=xr, lags=3, old_names=False)\n",
    "arm_fit = arm.fit()\n",
    "print('The fit parameters are:')\n",
    "arm_fit.params"
   ]
  },
  {
   "cell_type": "code",
   "execution_count": 118,
   "id": "8bb0f871",
   "metadata": {
    "scrolled": false
   },
   "outputs": [
    {
     "name": "stdout",
     "output_type": "stream",
     "text": [
      "Actual = 290 - predicted = 290.2\n",
      "Actual = 278 - predicted = 290.8\n",
      "Actual = 289 - predicted = 289.5\n",
      "Actual = 239 - predicted = 289.2\n",
      "Actual = 272 - predicted = 288.9\n",
      "Actual = 268 - predicted = 288.4\n",
      "Actual = 235 - predicted = 288.0\n"
     ]
    }
   ],
   "source": [
    "xsp = arm_fit.predict(start=train_len, end=train_len+prl-1)  #XTest prediction values\n",
    "for i in range(prl):\n",
    "    print('Actual =', xs[i], '- predicted =', \"{:2.1f}\".format(xsp[i]))"
   ]
  },
  {
   "cell_type": "markdown",
   "id": "1d246698",
   "metadata": {},
   "source": [
    "### Metrics to measure performance"
   ]
  },
  {
   "cell_type": "code",
   "execution_count": 119,
   "id": "4de19917",
   "metadata": {},
   "outputs": [
    {
     "name": "stdout",
     "output_type": "stream",
     "text": [
      "MAE:  Mean Absolute Error =            22.01\n",
      "MAPE: Mean Absolute Percentage Error = 0.09\n",
      "RMSE: Root Mean Squared Error =        29.77\n"
     ]
    }
   ],
   "source": [
    "from sklearn.metrics import mean_absolute_error, mean_absolute_percentage_error, mean_squared_error\n",
    "mae = mean_absolute_error(xs, xsp)\n",
    "mape = mean_absolute_percentage_error(xs, xsp)\n",
    "rmse = math.sqrt(mean_squared_error(xs, xsp))\n",
    "print('MAE:  Mean Absolute Error =           ', \"{:2.2f}\".format(mae))\n",
    "print('MAPE: Mean Absolute Percentage Error =', \"{:2.2f}\".format(mape))\n",
    "print('RMSE: Root Mean Squared Error =       ', \"{:2.2f}\".format(rmse))"
   ]
  },
  {
   "cell_type": "markdown",
   "id": "b4204cee",
   "metadata": {},
   "source": [
    "## Search to find the best number for parameter \"lags\""
   ]
  },
  {
   "cell_type": "code",
   "execution_count": 120,
   "id": "235a7f62",
   "metadata": {},
   "outputs": [
    {
     "name": "stdout",
     "output_type": "stream",
     "text": [
      "\n",
      "Lowest RMSE 18.32 was acheived using lags = 9\n"
     ]
    }
   ],
   "source": [
    "from sklearn.metrics import mean_absolute_error, mean_squared_error\n",
    "# param = {\"lags\": [3, 7, 10, 15, 20, 30, 40, 50]}\n",
    "param = {\"lags\": range(1, 50)}\n",
    "lowest_rmse, best_cfg = float(\"inf\"), None\n",
    "\n",
    "for i in range(len(param[\"lags\"])):\n",
    "    arm = AutoReg(endog=xr, lags=param[\"lags\"][i], old_names=False)\n",
    "    arm_fit = arm.fit()\n",
    "    xsp = arm_fit.predict(start=len(xr), end=len(xr)+prl-1)\n",
    "    rmse = math.sqrt(mean_squared_error(xs, xsp))\n",
    "#     mae = mean_absolute_error(xs, xsp)\n",
    "#     print('Lags =', param['lags'][i])\n",
    "#     print(\": \", arm_fit.params)\n",
    "#     print('MAE, RMSE:', mae, ',', rmse)\n",
    "    if lowest_rmse > rmse:\n",
    "        lowest_rmse, best_cfg = rmse, param[\"lags\"][i]\n",
    "    \n",
    "print('\\nLowest RMSE', \"{:2.2f}\".format(lowest_rmse), 'was acheived using lags =', best_cfg)"
   ]
  },
  {
   "cell_type": "markdown",
   "id": "daf868b8",
   "metadata": {},
   "source": [
    "## Conclusion"
   ]
  },
  {
   "cell_type": "markdown",
   "id": "f274c7bf",
   "metadata": {},
   "source": [
    "**>> The above search and assessment of the models showed that at lags = 9, we have the best performance of AR. The model was fit using 90% of dataset as training data. The assessment was done using 7 consecutive days followed after the initial 90% of data. To improve the search and assessment mechanism, it can be carried out on more spots of the dataset using the same found parameters or using new fit parameters. The length of prediction may also be changed.**\n",
    "\n",
    "**Several attempts were made to implement the abovementioned searching and assessment techniques. However, as it unnecessarily introduces useless complication to the studies at this stage, they are not mentioned in this notebook.**\n",
    "\n",
    "**The model shows an acceptable performance within a week after the final available data. This is based on the previous data of the studied feature (autoregression). Also as we are using the local data only, it cannot predict new peaks in cases/deaths. This limits the application of AR to short term predictions (such as 1 or 2 weeks).**"
   ]
  }
 ],
 "metadata": {
  "kernelspec": {
   "display_name": "Python 3 (ipykernel)",
   "language": "python",
   "name": "python3"
  },
  "language_info": {
   "codemirror_mode": {
    "name": "ipython",
    "version": 3
   },
   "file_extension": ".py",
   "mimetype": "text/x-python",
   "name": "python",
   "nbconvert_exporter": "python",
   "pygments_lexer": "ipython3",
   "version": "3.9.7"
  }
 },
 "nbformat": 4,
 "nbformat_minor": 5
}
