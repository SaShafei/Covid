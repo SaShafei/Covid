{
 "cells": [
  {
   "cell_type": "code",
   "execution_count": 6,
   "id": "16d3c793",
   "metadata": {},
   "outputs": [
    {
     "name": "stdout",
     "output_type": "stream",
     "text": [
      "     fun: 13.499999999998641\n",
      "     jac: array([1.5, 9. ])\n",
      " message: 'Optimization terminated successfully'\n",
      "    nfev: 6\n",
      "     nit: 2\n",
      "    njev: 2\n",
      "  status: 0\n",
      " success: True\n",
      "       x: array([9. , 1.5])\n"
     ]
    }
   ],
   "source": [
    "from scipy.optimize import minimize\n",
    "\n",
    "def fun(x):\n",
    "    return x[0] * x[1]# + x[0]**2 + x[1]**2\n",
    "\n",
    "import math\n",
    "\n",
    "cons = ({'type': 'ineq', 'fun': lambda x: 6*x[1] - x[0]}, {'type': 'ineq', 'fun': lambda x: x[0] - 2*x[1]})#, {'type': 'ineq', 'fun': lambda x: -(maxI(x) - 40000)})\n",
    "\n",
    "pzero = [0.5, 0.1]\n",
    "\n",
    "param_bounds = ((9, 18), (1, None))\n",
    " \n",
    "res = minimize(fun, x0=pzero, constraints=cons, bounds=param_bounds)\n",
    "print(res)"
   ]
  },
  {
   "cell_type": "code",
   "execution_count": 15,
   "id": "cac5cf0a",
   "metadata": {},
   "outputs": [
    {
     "data": {
      "text/plain": [
       "3.4545454545454546"
      ]
     },
     "execution_count": 15,
     "metadata": {},
     "output_type": "execute_result"
    }
   ],
   "source": [
    "from sklearn.metrics import mean_squared_error\n",
    "mean_squared_error([1, 2], [2, 5], sample_weight=[10, 1]) * 2"
   ]
  }
 ],
 "metadata": {
  "kernelspec": {
   "display_name": "Python 3 (ipykernel)",
   "language": "python",
   "name": "python3"
  },
  "language_info": {
   "codemirror_mode": {
    "name": "ipython",
    "version": 3
   },
   "file_extension": ".py",
   "mimetype": "text/x-python",
   "name": "python",
   "nbconvert_exporter": "python",
   "pygments_lexer": "ipython3",
   "version": "3.9.7"
  }
 },
 "nbformat": 4,
 "nbformat_minor": 5
}
